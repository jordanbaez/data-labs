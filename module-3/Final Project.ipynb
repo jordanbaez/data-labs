{
 "cells": [
  {
   "cell_type": "code",
   "execution_count": null,
   "metadata": {},
   "outputs": [],
   "source": [
    "import pandas as pd"
   ]
  },
  {
   "cell_type": "code",
   "execution_count": null,
   "metadata": {},
   "outputs": [],
   "source": [
    "df = pd.read_csv('Gender_StatsData.csv')"
   ]
  },
  {
   "cell_type": "code",
   "execution_count": null,
   "metadata": {},
   "outputs": [],
   "source": [
    "df['full_count'] = df.apply(lambda x: x.count(), axis=1)\n",
    "\n",
    "df.head()"
   ]
  },
  {
   "cell_type": "code",
   "execution_count": null,
   "metadata": {},
   "outputs": [],
   "source": [
    "missing = df[df['full_count']<=35]\n",
    "missing['Indicator Name'].value_counts()"
   ]
  },
  {
   "cell_type": "markdown",
   "metadata": {},
   "source": [
    "indicators with the most missing data overall :\n",
    "- Labor force participation rate, female (% of female population ages 15-64)\n",
    "- Maternal mortality ratio (modeled estimate, per 100,000 live births)\n",
    "- Vulnerable employment, female (% of female employment)\n",
    "- Prevalence of anemia among women of reproductive age (% of women ages 15-49)\n",
    "- Labor force participation rate, female (% of female population ages 15+)\n",
    "- Unemployment, female (% of female labor force)\n",
    "- Number of maternal deaths\n",
    "- Ratio of female to male labor force participation rate (%)"
   ]
  },
  {
   "cell_type": "code",
   "execution_count": null,
   "metadata": {},
   "outputs": [],
   "source": [
    "def valuecounts(a,b,c):\n",
    "    counts = a[b].value_counts()\n",
    "    counts = counts[counts>c]\n",
    "    a = a[a[b].isin(counts.index)]\n",
    "    return a1"
   ]
  },
  {
   "cell_type": "code",
   "execution_count": null,
   "metadata": {},
   "outputs": [],
   "source": [
    "a1 = valuecounts(df,'Country Name',497)\n",
    "a1['Country Name'].value_counts()"
   ]
  },
  {
   "cell_type": "markdown",
   "metadata": {},
   "source": [
    "countries with the most missing data overall : \n",
    "\n",
    "2 main reasons : \n",
    "- all the indicators don't apply to all the countries. European countries have a lot of missing data because there's no measurement made on Children EMployment Rate, Women who were first married by the age of 15, or Percentage of Women who own land alone, for instance. \n",
    "- very poor countries with weak government and/or little administration to collect data and/or in conflict zone, like the West Bank and Gaza, Serbia, Kosovo, Armenia, Eritrea, Bosnia, Yemen, Kyrgyzstan, Croatia, Lybia, etc."
   ]
  },
  {
   "cell_type": "code",
   "execution_count": null,
   "metadata": {},
   "outputs": [],
   "source": [
    "df = df[df['full_count']>=30]\n",
    "df.shape\n",
    "\n",
    "#going from 140k rows to 24k by dropping rows with a majority of missing data."
   ]
  },
  {
   "cell_type": "code",
   "execution_count": null,
   "metadata": {},
   "outputs": [],
   "source": [
    "df = valuecounts(df,'Indicator Name',179)\n",
    "df.shape\n",
    "\n",
    "#going down to 19k+ rows by selecting the indicators that have the most occurences."
   ]
  },
  {
   "cell_type": "code",
   "execution_count": null,
   "metadata": {},
   "outputs": [],
   "source": [
    "df['Indicator Name'].nunique()\n",
    "#72 indicators left per country"
   ]
  },
  {
   "cell_type": "code",
   "execution_count": null,
   "metadata": {},
   "outputs": [],
   "source": [
    "df['Country Name'].value_counts()"
   ]
  },
  {
   "cell_type": "code",
   "execution_count": null,
   "metadata": {},
   "outputs": [],
   "source": [
    "df = valuecounts(df,'Country Name',59)\n",
    "df.shape"
   ]
  },
  {
   "cell_type": "code",
   "execution_count": null,
   "metadata": {},
   "outputs": [],
   "source": [
    "counts3 = df['Country Name'].value_counts()\n",
    "counts3 = counts3[counts3<76]\n",
    "counts3 = counts3[counts3>70]\n",
    "df = df[df['Country Name'].isin(counts3.index)]\n",
    "df.shape\n",
    "\n",
    "# down to 3500 rows"
   ]
  },
  {
   "cell_type": "code",
   "execution_count": null,
   "metadata": {},
   "outputs": [],
   "source": [
    "to_drop = ['Eritrea',                                              \n",
    "'Timor-Leste' ,                                         \n",
    "'Liberia'    ,                                          \n",
    "'Montenegro' ,\n",
    "'IDA blend',\n",
    "'IBRD only',\n",
    "'Caribbean small states'   ,                            \n",
    "'Post-demographic dividend' ,                           \n",
    "'New Caledonia'        ,                                \n",
    "'Europe & Central Asia (excluding high income)',\n",
    "'Pacific island small states'   ,                       \n",
    "'French Polynesia'    ,                                 \n",
    "'Middle East & North Africa',\n",
    "'Serbia','Latin America & Caribbean (IDA & IBRD)',\n",
    "'Pre-demographic dividend','IDA only','Early-demographic dividend',\n",
    "'East Asia & Pacific (excluding high income)','Upper middle income','Low & middle income']\n",
    "\n",
    "df = df[~df['Country Name'].isin(to_drop)]\n",
    "df.shape\n",
    "\n",
    "#dropping individual countries and only keeping selected regions\n",
    "# down to 1970 rows"
   ]
  },
  {
   "cell_type": "code",
   "execution_count": null,
   "metadata": {},
   "outputs": [],
   "source": [
    "df = valuecounts(df,'Indicator Name',26)\n",
    "df.shape\n",
    "\n",
    "# dropping 5 indicators that were not monitored for all of the regions."
   ]
  }
 ],
 "metadata": {
  "kernelspec": {
   "display_name": "Python 3",
   "language": "python",
   "name": "python3"
  },
  "language_info": {
   "codemirror_mode": {
    "name": "ipython",
    "version": 3
   },
   "file_extension": ".py",
   "mimetype": "text/x-python",
   "name": "python",
   "nbconvert_exporter": "python",
   "pygments_lexer": "ipython3",
   "version": "3.7.3"
  }
 },
 "nbformat": 4,
 "nbformat_minor": 2
}
