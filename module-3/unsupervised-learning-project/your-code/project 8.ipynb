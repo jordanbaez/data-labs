{
 "cells": [
  {
   "cell_type": "code",
   "execution_count": 1,
   "metadata": {},
   "outputs": [
    {
     "ename": "ModuleNotFoundError",
     "evalue": "No module named 'pandas'",
     "output_type": "error",
     "traceback": [
      "\u001b[0;31m---------------------------------------------------------------------------\u001b[0m",
      "\u001b[0;31mModuleNotFoundError\u001b[0m                       Traceback (most recent call last)",
      "\u001b[0;32m<ipython-input-1-d4703c6e730f>\u001b[0m in \u001b[0;36m<module>\u001b[0;34m\u001b[0m\n\u001b[0;32m----> 1\u001b[0;31m \u001b[0;32mimport\u001b[0m \u001b[0mpandas\u001b[0m \u001b[0;32mas\u001b[0m \u001b[0mpd\u001b[0m\u001b[0;34m\u001b[0m\u001b[0;34m\u001b[0m\u001b[0m\n\u001b[0m\u001b[1;32m      2\u001b[0m \u001b[0mdf\u001b[0m \u001b[0;34m=\u001b[0m \u001b[0mpd\u001b[0m\u001b[0;34m.\u001b[0m\u001b[0mread_csv\u001b[0m\u001b[0;34m(\u001b[0m\u001b[0;34m'Online Retail.csv'\u001b[0m\u001b[0;34m,\u001b[0m\u001b[0mencoding\u001b[0m \u001b[0;34m=\u001b[0m \u001b[0;34m\"ISO-8859-1\"\u001b[0m\u001b[0;34m)\u001b[0m\u001b[0;34m\u001b[0m\u001b[0;34m\u001b[0m\u001b[0m\n",
      "\u001b[0;31mModuleNotFoundError\u001b[0m: No module named 'pandas'"
     ]
    }
   ],
   "source": [
    "import pandas as pd\n",
    "df = pd.read_csv('Online Retail.csv',encoding = \"ISO-8859-1\")"
   ]
  },
  {
   "cell_type": "code",
   "execution_count": null,
   "metadata": {},
   "outputs": [],
   "source": [
    "df.shape"
   ]
  },
  {
   "cell_type": "code",
   "execution_count": null,
   "metadata": {},
   "outputs": [],
   "source": [
    "df.isnull().sum()"
   ]
  },
  {
   "cell_type": "code",
   "execution_count": null,
   "metadata": {},
   "outputs": [],
   "source": [
    "df.StockCode.nunique()"
   ]
  },
  {
   "cell_type": "code",
   "execution_count": null,
   "metadata": {},
   "outputs": [],
   "source": [
    "df['InvoiceDate'] = pd.to_datetime(df['InvoiceDate'])\n",
    "\n",
    "df.dtypes"
   ]
  },
  {
   "cell_type": "code",
   "execution_count": null,
   "metadata": {},
   "outputs": [],
   "source": [
    "df1=df.dropna()"
   ]
  },
  {
   "cell_type": "code",
   "execution_count": null,
   "metadata": {},
   "outputs": [],
   "source": [
    "df1['Description'] = df1.Description.str.lower()\n"
   ]
  },
  {
   "cell_type": "code",
   "execution_count": null,
   "metadata": {},
   "outputs": [],
   "source": [
    "import os\n",
    "import nltk\n",
    "nltk.download('stopwords')\n",
    "from nltk.corpus import stopwords\n",
    "stop = stopwords.words('english')\n",
    "\n",
    "df1['Description'] = df1['Description'].apply(lambda x: ' '.join([item for item in x.split() if item not in stop]))"
   ]
  },
  {
   "cell_type": "code",
   "execution_count": null,
   "metadata": {},
   "outputs": [],
   "source": [
    "pd.Series([j for i in df1.Description.str.lower().str.split() for j in i]).value_counts()"
   ]
  },
  {
   "cell_type": "code",
   "execution_count": null,
   "metadata": {},
   "outputs": [],
   "source": [
    "df1['Item_Class'] = df1['Description']"
   ]
  },
  {
   "cell_type": "code",
   "execution_count": null,
   "metadata": {},
   "outputs": [],
   "source": [
    "import numpy as np"
   ]
  },
  {
   "cell_type": "code",
   "execution_count": null,
   "metadata": {},
   "outputs": [],
   "source": [
    "df1.Item_Class=df1.Description.apply(lambda x: np.where('retrospot' in x,'retrospot',x))\n",
    "df1.Item_Class=df1.Item_Class.apply(lambda x: np.where('vintage' in x,'vintage',x))\n",
    "df1.Item_Class=df1.Item_Class.apply(lambda x: np.where('card' in x,'accessory',x))\n",
    "df1.Item_Class=df1.Item_Class.apply(lambda x: np.where('holder' in x,'accessory',x))\n",
    "df1.Item_Class=df1.Item_Class.apply(lambda x: np.where('set' in x,'set',x))\n",
    "df1.Item_Class=df1.Item_Class.apply(lambda x: np.where('bag' in x,'bag',x))\n",
    "df1.Item_Class=df1.Item_Class.apply(lambda x: np.where('sign' in x,'decoration',x))\n",
    "df1.Item_Class=df1.Item_Class.apply(lambda x: np.where('christmas' in x,'decoration',x))\n",
    "df1.Item_Class=df1.Item_Class.apply(lambda x: np.where('decoration' in x,'decoration',x))\n",
    "df1.Item_Class=df1.Item_Class.apply(lambda x: np.where('design' in x,'decoration',x))\n",
    "df1.Item_Class=df1.Item_Class.apply(lambda x: np.where('cases' in x,'boxes',x))\n",
    "df1.Item_Class=df1.Item_Class.apply(lambda x: np.where('box' in x,'boxes',x))\n",
    "df1.Item_Class=df1.Item_Class.apply(lambda x: np.where('cakestand' in x,'home',x))\n",
    "df1.Item_Class=df1.Item_Class.apply(lambda x: np.where('ornament' in x,'home',x))\n",
    "df1.Item_Class=df1.Item_Class.apply(lambda x: np.where('bunting' in x,'miscellaneous',x))\n",
    "df1.Item_Class=df1.Item_Class.apply(lambda x: np.where('heart' in x,'home',x))\n",
    "df1.Item_Class=df1.Item_Class.apply(lambda x: np.where('postage' in x,'accessory',x))\n",
    "df1.Item_Class=df1.Item_Class.apply(lambda x: np.where('light' in x,'home',x))\n",
    "df1.Item_Class=df1.Item_Class.apply(lambda x: np.where('frame' in x,'decoration',x))\n",
    "df1.Item_Class=df1.Item_Class.apply(lambda x: np.where('bottle' in x,'home',x))\n",
    "df1.Item_Class=df1.Item_Class.apply(lambda x: np.where('clock' in x,'home',x))\n",
    "df1.Item_Class=df1.Item_Class.apply(lambda x: np.where('pad' in x,'home',x))\n",
    "df1.Item_Class=df1.Item_Class.apply(lambda x: np.where('carry' in x,'accessory',x))\n",
    "df1.Item_Class=df1.Item_Class.apply(lambda x: np.where('teacup' in x,'home',x))\n",
    "df1.Item_Class=df1.Item_Class.apply(lambda x: np.where('charm' in x,'home',x))\n",
    "df1.Item_Class=df1.Item_Class.apply(lambda x: np.where('home' in x,'home',x))\n",
    "df1.Item_Class=df1.Item_Class.apply(lambda x: np.where('calm' in x,'accessory',x))\n",
    "df1.Item_Class=df1.Item_Class.apply(lambda x: np.where('kitchen' in x,'home',x))\n",
    "df1.Item_Class=df1.Item_Class.apply(lambda x: np.where('friends' in x,'miscellaneous',x))\n",
    "df1.Item_Class=df1.Item_Class.apply(lambda x: np.where('tin' in x,'home',x))\n",
    "df1.Item_Class=df1.Item_Class.apply(lambda x: np.where('clock' in x,'home',x))\n",
    "df1.Item_Class=df1.Item_Class.apply(lambda x: np.where('doormat' in x,'home',x))\n",
    "\n",
    "#other_food = [x for x in df.Item.unique() if x not in beverage \n",
    " #               and x not in other and x not in kids and x not in snacks \n",
    "  #              and x not in bread and x not in breakfast_pastry \n",
    "   #             and x not in dessert and x not in condiments \n",
    "    #            and x not in breakfast and x not in lunch]\n",
    "# si on veut mettre tout le reste dans une même section sans distinguer"
   ]
  },
  {
   "cell_type": "code",
   "execution_count": null,
   "metadata": {},
   "outputs": [],
   "source": [
    "df1 = df1[df1.Item_Class != df1.Description]\n",
    "df1 = df1.drop(['Description'],axis=1)\n",
    "df1.shape"
   ]
  },
  {
   "cell_type": "code",
   "execution_count": null,
   "metadata": {},
   "outputs": [],
   "source": [
    "df1=pd.get_dummies(data=df1, columns=['Item_Class'])"
   ]
  },
  {
   "cell_type": "code",
   "execution_count": null,
   "metadata": {},
   "outputs": [],
   "source": [
    "df1['day']=df.InvoiceDate.dt.day_name()\n",
    "df1['hour']=df1.InvoiceDate.dt.hour"
   ]
  },
  {
   "cell_type": "code",
   "execution_count": null,
   "metadata": {},
   "outputs": [],
   "source": [
    "df1=pd.get_dummies(data=df1, columns=['day'])\n",
    "df1.drop('InvoiceDate',inplace=True,axis=1)"
   ]
  },
  {
   "cell_type": "code",
   "execution_count": null,
   "metadata": {},
   "outputs": [],
   "source": [
    "df1['Item_Class_accessory'] = df1['Item_Class_accessory'] * df1.Quantity\n",
    "df1['Item_Class_bag']=df1['Item_Class_bag'] * df1.Quantity\n",
    "df1['Item_Class_boxes']=df1['Item_Class_boxes']* df1.Quantity\n",
    "df1['Item_Class_decoration'] =df1['Item_Class_decoration'] * df1.Quantity\n",
    "df1['Item_Class_home'] =df1['Item_Class_home'] * df1.Quantity\n",
    "df1['Item_Class_miscellaneous'] = df1['Item_Class_miscellaneous']* df1.Quantity\n",
    "df1['Item_Class_retrospot'] =df1['Item_Class_retrospot']  * df1.Quantity\n",
    "df1['Item_Class_set'] = df1['Item_Class_set']* df1.Quantity\n",
    "df1['Item_Class_vintage'] = df1['Item_Class_vintage'] * df1.Quantity\n",
    "df1['UnitPrice'] = df1['UnitPrice'] * df1.Quantity\n",
    "df1.rename(columns= {'UnitPrice': 'AmountSpent'},inplace=True)\n",
    "\n",
    "df1 = df1[df1.Country == 'United Kingdom']\n",
    "df1.rename(columns= {'UnitPrice': 'AmountSpent'},inplace=True)\n",
    "df1.drop(['StockCode','Country','CustomerID', 'Quantity'],inplace=True,axis=1)\n",
    "df1[\"InvoiceNo\"] = pd.to_numeric(df1[\"InvoiceNo\"],errors='coerce')\n",
    "df1=df1.dropna()\n",
    "df1.shape"
   ]
  },
  {
   "cell_type": "code",
   "execution_count": null,
   "metadata": {},
   "outputs": [],
   "source": [
    "df1 = df1.groupby(['InvoiceNo','hour','day_Friday', 'day_Monday', \n",
    "                   'day_Sunday','day_Thursday', 'day_Tuesday', \n",
    "                   'day_Wednesday']).agg('sum')"
   ]
  },
  {
   "cell_type": "code",
   "execution_count": null,
   "metadata": {},
   "outputs": [],
   "source": [
    "df1.reset_index(level=['hour','day_Friday', \n",
    "                       'day_Monday', 'day_Sunday','day_Thursday', \n",
    "                       'day_Tuesday', 'day_Wednesday'],inplace=True)\n",
    "df1.head()"
   ]
  },
  {
   "cell_type": "code",
   "execution_count": null,
   "metadata": {},
   "outputs": [],
   "source": [
    "df1[\"AmountSpent\"] = pd.to_numeric(df1[\"AmountSpent\"],errors='coerce')"
   ]
  },
  {
   "cell_type": "code",
   "execution_count": null,
   "metadata": {},
   "outputs": [],
   "source": [
    "from sklearn import preprocessing\n",
    "min_max_scaler = preprocessing.MinMaxScaler()\n",
    "df2 = min_max_scaler.fit_transform(df1)\n",
    "df2 = pd.DataFrame(df2)"
   ]
  },
  {
   "cell_type": "code",
   "execution_count": null,
   "metadata": {},
   "outputs": [],
   "source": [
    "df2.rename(columns= {0: 'hour', \n",
    "1: 'day_Friday' ,\n",
    "2: 'day_Monday' ,\n",
    "3: 'day_Sunday' ,\n",
    "4: 'day_Thursday' ,\n",
    "5: 'day_Tuesday' ,\n",
    "6: 'day_Wednesday' ,\n",
    "7: 'AmountSpent' ,\n",
    "8: 'Item_Class_accessory', \n",
    "9: 'Item_Class_bag',\n",
    "10: 'Item_Class_boxes', #(0 or 1) \n",
    "11: 'Item_Class_decoration', \n",
    "12: 'Item_Class_home', \n",
    "13: 'Item_Class_miscellaneous',\n",
    "14: 'Item_Class_retrospot' ,\n",
    "15: 'Item_Class_set' ,\n",
    "16: 'Item_Class_vintage'}, inplace=True)\n",
    "df2.shape"
   ]
  },
  {
   "cell_type": "code",
   "execution_count": null,
   "metadata": {},
   "outputs": [],
   "source": [
    "from sklearn.decomposition import PCA\n",
    "\n",
    "pca = PCA(n_components=3)\n",
    "\n",
    "pc = pca.fit_transform(df2)\n",
    "ppc = pd.DataFrame(data = pc\n",
    "             ,columns = ['pc1', 'pc2', 'pc3'])\n",
    "ppc.head()  \n",
    "new_data = pd.DataFrame(pc)"
   ]
  },
  {
   "cell_type": "code",
   "execution_count": null,
   "metadata": {},
   "outputs": [],
   "source": [
    "pca.explained_variance_ratio_"
   ]
  },
  {
   "cell_type": "code",
   "execution_count": null,
   "metadata": {},
   "outputs": [],
   "source": [
    "from sklearn import cluster\n",
    "from yellowbrick.cluster import KElbowVisualizer\n",
    "from sklearn.cluster import KMeans"
   ]
  },
  {
   "cell_type": "code",
   "execution_count": null,
   "metadata": {},
   "outputs": [],
   "source": [
    "model =cluster.KMeans()\n",
    "visualizer=KElbowVisualizer(model,k=(2,12))\n",
    "visualizer.fit(new_data)\n",
    "visualizer.poof"
   ]
  },
  {
   "cell_type": "code",
   "execution_count": null,
   "metadata": {},
   "outputs": [],
   "source": [
    "kmeans=KMeans(4)\n",
    "df_cluster=kmeans.fit(ppc)\n",
    "df_cluster.cluster_centers_"
   ]
  },
  {
   "cell_type": "code",
   "execution_count": null,
   "metadata": {},
   "outputs": [],
   "source": [
    "df1['labels']=df_cluster.fit_predict(ppc)\n",
    "df1.labels.value_counts()"
   ]
  },
  {
   "cell_type": "code",
   "execution_count": null,
   "metadata": {},
   "outputs": [],
   "source": [
    "pd.crosstab(df1.hour,df1.labels, normalize ='columns')"
   ]
  },
  {
   "cell_type": "code",
   "execution_count": null,
   "metadata": {},
   "outputs": [],
   "source": [
    "df2.pivot_table(index=[\"hour\"], values=[\"AmountSpent\"])"
   ]
  },
  {
   "cell_type": "code",
   "execution_count": null,
   "metadata": {},
   "outputs": [],
   "source": [
    "kmeans.labels_"
   ]
  },
  {
   "cell_type": "code",
   "execution_count": null,
   "metadata": {},
   "outputs": [],
   "source": [
    "from sklearn.cluster import AgglomerativeClustering\n",
    "from scipy.cluster.hierarchy import dendrogram\n",
    "import numpy as np\n",
    "import matplotlib.pyplot as plt\n",
    "\n",
    "df2_columns = [col for col in df2.columns.values]\n",
    "df2_sample=df2[df2_columns].sample(n=100)\n",
    "hier_clust=AgglomerativeClustering(linkage='ward')\n",
    "df2_hier=hier_clust.fit(df2_sample)\n",
    "\n",
    "def plot_dendrogram(model, **kwargs):\n",
    "  children=model.children_\n",
    "  distance=np.arange(children.shape[0])\n",
    "  no_observations = np.arange(2,children.shape[0]+2)\n",
    "  linkage_matrix = np.column_stack([children,distance,no_observations]).astype(float)\n",
    "  dendrogram(linkage_matrix,**kwargs)\n",
    "  \n",
    "plot_dendrogram(df2_hier,labels=df2_hier.labels_)"
   ]
  },
  {
   "cell_type": "code",
   "execution_count": null,
   "metadata": {},
   "outputs": [],
   "source": [
    "from sklearn.datasets import make_blobs\n",
    "from sklearn.cluster import KMeans\n",
    "from mpl_toolkits.mplot3d import Axes3D\n",
    "fig=plt.figure()\n",
    "ax = fig.add_subplot(111, projection='3d')\n",
    "\n",
    "y_pred = df2_clusters.predict(df2)\n",
    "plt.figure(figsize=(6,6))\n",
    "ax.scatter(new_data[0], new_data[1],new_data[2] ,c=y_pred)\n",
    "\n",
    "\n",
    "#centers = kmeans.cluster_centers_\n",
    "#ax.scatter(centers[:, 0], centers[:, 1], centers[:,2], c='red', s=50, alpha=0.75)\n",
    "plt.show()"
   ]
  },
  {
   "cell_type": "code",
   "execution_count": null,
   "metadata": {},
   "outputs": [],
   "source": [
    "fig=plt.figure()\n",
    "ax = fig.add_subplot(111)\n",
    "\n",
    "colors=np.array(['blue','seagreen','purple','cyan'])\n",
    "\n",
    "y_pred = df2_clusters.predict(df2)\n",
    "plt.figure(figsize=(6,6))\n",
    "ax.scatter(df2['AmountSpent'],df2['hour'] ,c=colors[y_pred])\n",
    "\n",
    "plt.show()"
   ]
  }
 ],
 "metadata": {
  "kernelspec": {
   "display_name": "Python 3",
   "language": "python",
   "name": "python3"
  },
  "language_info": {
   "codemirror_mode": {
    "name": "ipython",
    "version": 3
   },
   "file_extension": ".py",
   "mimetype": "text/x-python",
   "name": "python",
   "nbconvert_exporter": "python",
   "pygments_lexer": "ipython3",
   "version": "3.7.3"
  }
 },
 "nbformat": 4,
 "nbformat_minor": 2
}
