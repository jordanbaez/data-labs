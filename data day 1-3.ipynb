{
 "cells": [
  {
   "cell_type": "code",
   "execution_count": 7,
   "metadata": {},
   "outputs": [
    {
     "ename": "ModuleNotFoundError",
     "evalue": "No module named 'numpy'",
     "output_type": "error",
     "traceback": [
      "\u001b[0;31m---------------------------------------------------------------------------\u001b[0m",
      "\u001b[0;31mModuleNotFoundError\u001b[0m                       Traceback (most recent call last)",
      "\u001b[0;32m<ipython-input-7-f09edf7f58ad>\u001b[0m in \u001b[0;36m<module>\u001b[0;34m\u001b[0m\n\u001b[1;32m      1\u001b[0m \u001b[0;32mimport\u001b[0m \u001b[0mos\u001b[0m\u001b[0;34m\u001b[0m\u001b[0;34m\u001b[0m\u001b[0m\n\u001b[0;32m----> 2\u001b[0;31m \u001b[0;32mimport\u001b[0m \u001b[0mnumpy\u001b[0m \u001b[0;32mas\u001b[0m \u001b[0mnp\u001b[0m\u001b[0;34m\u001b[0m\u001b[0;34m\u001b[0m\u001b[0m\n\u001b[0m",
      "\u001b[0;31mModuleNotFoundError\u001b[0m: No module named 'numpy'"
     ]
    }
   ],
   "source": [
    "import os\n",
    "import numpy as np"
   ]
  },
  {
   "cell_type": "code",
   "execution_count": 21,
   "metadata": {},
   "outputs": [
    {
     "data": {
      "text/plain": [
       "'/Users/jordanbaez/data-labs/module-1'"
      ]
     },
     "execution_count": 21,
     "metadata": {},
     "output_type": "execute_result"
    }
   ],
   "source": [
    "os.getcwd()"
   ]
  },
  {
   "cell_type": "code",
   "execution_count": 5,
   "metadata": {},
   "outputs": [],
   "source": [
    "os.chdir('/Users/jordanbaez/data-labs/module-1/')"
   ]
  },
  {
   "cell_type": "code",
   "execution_count": 8,
   "metadata": {},
   "outputs": [],
   "source": [
    "import re"
   ]
  },
  {
   "cell_type": "code",
   "execution_count": 11,
   "metadata": {},
   "outputs": [
    {
     "data": {
      "text/plain": [
       "<re.Match object; span=(0, 4), match='\\\\par'>"
      ]
     },
     "execution_count": 11,
     "metadata": {},
     "output_type": "execute_result"
    }
   ],
   "source": [
    "re.search('\\\\\\\\par','\\\\paris')"
   ]
  },
  {
   "cell_type": "code",
   "execution_count": 10,
   "metadata": {},
   "outputs": [
    {
     "name": "stdout",
     "output_type": "stream",
     "text": [
      "mark says:'how's your day?'\n"
     ]
    }
   ],
   "source": [
    "print(\"mark says:'how's your day?'\")"
   ]
  },
  {
   "cell_type": "code",
   "execution_count": null,
   "metadata": {},
   "outputs": [],
   "source": [
    "print('mark\\'s father')"
   ]
  },
  {
   "cell_type": "code",
   "execution_count": 12,
   "metadata": {},
   "outputs": [
    {
     "data": {
      "text/plain": [
       "['.gitignore',\n",
       " '.gitkeep',\n",
       " 'lab-advanced-mysql',\n",
       " 'lab-advanced-regex',\n",
       " 'lab-advanced-web-scraping',\n",
       " 'lab-api-scavenger-game',\n",
       " 'lab-code-simplicity-efficiency',\n",
       " 'lab-data_cleaning',\n",
       " 'lab-errhand_listcomp',\n",
       " 'lab-error-handling',\n",
       " 'lab-functional-programming',\n",
       " 'lab-import-export',\n",
       " 'lab-intro-pandas',\n",
       " 'lab-lambda-functions',\n",
       " 'lab-list-comprehensions',\n",
       " 'lab-map-reduce-filter',\n",
       " 'lab-mysql',\n",
       " 'lab-mysql-select',\n",
       " 'lab-numpy',\n",
       " 'lab-object-oriented-programming',\n",
       " 'lab-parallelization',\n",
       " 'lab-resolving-git-conflicts',\n",
       " 'lab-rss',\n",
       " 'lab-string-operations',\n",
       " 'lab-tuple-set-dict',\n",
       " 'lab-web-scraping',\n",
       " 'pandas-project',\n",
       " 'pipelines-project',\n",
       " 'python-project',\n",
       " 'web-project']"
      ]
     },
     "execution_count": 12,
     "metadata": {},
     "output_type": "execute_result"
    }
   ],
   "source": [
    "os.listdir()"
   ]
  },
  {
   "cell_type": "code",
   "execution_count": 19,
   "metadata": {},
   "outputs": [
    {
     "name": "stdout",
     "output_type": "stream",
     "text": [
      "['lab-advanced-web-scraping', 'lab-data_cleaning', 'lab-error-handling', 'lab-functional-programming', 'lab-object-oriented-programming', 'lab-web-scraping']\n",
      "['lab-advanced-web-scraping', 'lab-data_cleaning', 'lab-error-handling', 'lab-functional-programming', 'lab-object-oriented-programming', 'lab-web-scraping']\n"
     ]
    }
   ],
   "source": [
    "lst=[]\n",
    "for i in os.listdir():\n",
    "    if (i.endswith('ing')):\n",
    "        lst.append(i)\n",
    "print(lst)\n",
    "print([i for i in os.listdir() if i.endswith('ing')])"
   ]
  },
  {
   "cell_type": "code",
   "execution_count": 23,
   "metadata": {},
   "outputs": [
    {
     "data": {
      "text/plain": [
       "['README.md']"
      ]
     },
     "execution_count": 23,
     "metadata": {},
     "output_type": "execute_result"
    }
   ],
   "source": [
    "[i for i in os.listdir('./lab-rss') if i.endswith('md')]"
   ]
  },
  {
   "cell_type": "code",
   "execution_count": 24,
   "metadata": {},
   "outputs": [
    {
     "data": {
      "text/plain": [
       "['README.md']"
      ]
     },
     "execution_count": 24,
     "metadata": {},
     "output_type": "execute_result"
    }
   ],
   "source": [
    "a = [i for i in os.listdir('./lab-rss') if i.endswith('md')]\n",
    "a"
   ]
  },
  {
   "cell_type": "code",
   "execution_count": null,
   "metadata": {},
   "outputs": [],
   "source": [
    "file_list=[i for i in os.listdir('./lab-rss') if i.endswith('md')]\n",
    "dt_set=[pd.read_csv(os.path.join('./lab-rss',i))for i ]\n",
    "data = pd.concat(data_sets, axis=0)\n",
    "#axis 0 by row, 1 by column"
   ]
  },
  {
   "cell_type": "markdown",
   "metadata": {},
   "source": [
    "#COLLECTIONS\n",
    "\n",
    "list\n",
    "tuples\n",
    "set\n",
    "dict\n",
    "\n"
   ]
  },
  {
   "cell_type": "code",
   "execution_count": 27,
   "metadata": {},
   "outputs": [
    {
     "name": "stdout",
     "output_type": "stream",
     "text": [
      "('dark', 'milk', 'sweet')\n"
     ]
    }
   ],
   "source": [
    "choco = ('dark','milk','sweet')\n",
    "brands = ['bio','Lindt',\"Milka\"]\n",
    "list(choco)\n",
    "print(choco)"
   ]
  },
  {
   "cell_type": "code",
   "execution_count": 28,
   "metadata": {},
   "outputs": [
    {
     "name": "stdout",
     "output_type": "stream",
     "text": [
      "{'dark': 'bio', 'milk': 'Lindt', 'sweet': 'Milka'}\n",
      "{'dark': 'bio', 'milk': 'Lindt', 'sweet': 'Milka'}\n"
     ]
    }
   ],
   "source": [
    "c_and_b = {'dark':'bio','milk':'Lindt','sweet':'Milka'}\n",
    "c_brands={choco[i]:brands[i] for i in range(len(brands))}\n",
    "print(c_brands)\n",
    "print(c_and_b)"
   ]
  },
  {
   "cell_type": "code",
   "execution_count": 29,
   "metadata": {},
   "outputs": [
    {
     "data": {
      "text/plain": [
       "'Lindt'"
      ]
     },
     "execution_count": 29,
     "metadata": {},
     "output_type": "execute_result"
    }
   ],
   "source": [
    "c_brands['milk']"
   ]
  },
  {
   "cell_type": "code",
   "execution_count": 30,
   "metadata": {},
   "outputs": [
    {
     "name": "stdout",
     "output_type": "stream",
     "text": [
      "dict_keys(['dark', 'milk', 'sweet'])\n"
     ]
    }
   ],
   "source": [
    "print(c_brands.keys())\n",
    "# c_brands.values() \n",
    "# c_brands.items()"
   ]
  },
  {
   "cell_type": "code",
   "execution_count": 31,
   "metadata": {},
   "outputs": [
    {
     "name": "stdout",
     "output_type": "stream",
     "text": [
      "{'milk': 'Lindt', 'sweet': 'Milka'}\n"
     ]
    }
   ],
   "source": [
    "del c_brands['dark']\n",
    "print(c_brands)"
   ]
  },
  {
   "cell_type": "code",
   "execution_count": 33,
   "metadata": {},
   "outputs": [
    {
     "data": {
      "text/plain": [
       "{'milk': 'Lindt', 'sweet': 'Milka', 'dark': \"Cote d'or\"}"
      ]
     },
     "execution_count": 33,
     "metadata": {},
     "output_type": "execute_result"
    }
   ],
   "source": [
    "c_brands['dark']='Cote d\\'or'\n",
    "c_brands"
   ]
  },
  {
   "cell_type": "code",
   "execution_count": 34,
   "metadata": {},
   "outputs": [
    {
     "name": "stdout",
     "output_type": "stream",
     "text": [
      "milk Lindt\n",
      "sweet Milka\n",
      "dark Cote d'or\n"
     ]
    }
   ],
   "source": [
    "for c_type, brand in c_brands.items():\n",
    "    print(c_type, brand)"
   ]
  },
  {
   "cell_type": "code",
   "execution_count": 35,
   "metadata": {},
   "outputs": [
    {
     "name": "stdout",
     "output_type": "stream",
     "text": [
      "best brand for milk chocolate is Lindt.\n",
      "best brand for sweet chocolate is Milka.\n",
      "best brand for dark chocolate is Cote d'or.\n"
     ]
    }
   ],
   "source": [
    "for ctype, brand in c_brands.items():\n",
    "    print(f'best brand for {ctype} chocolate is {brand}.')"
   ]
  },
  {
   "cell_type": "code",
   "execution_count": 38,
   "metadata": {},
   "outputs": [
    {
     "data": {
      "text/plain": [
       "[1, 1, 1, 1, 2, 2, 2, 2, 2, 3, 3, 3, 3, 3, 4, 4, 4, 5, 5, 5, 6]"
      ]
     },
     "execution_count": 38,
     "metadata": {},
     "output_type": "execute_result"
    }
   ],
   "source": [
    "lst=[1,2,3,4,5,6,3,4,5,2,2,3,3,1,1,3,1,2,4,2,5]\n",
    "lst.sort(reverse=False)\n",
    "lst"
   ]
  },
  {
   "cell_type": "code",
   "execution_count": 39,
   "metadata": {},
   "outputs": [
    {
     "data": {
      "text/plain": [
       "{1, 2, 3, 4, 5, 6}"
      ]
     },
     "execution_count": 39,
     "metadata": {},
     "output_type": "execute_result"
    }
   ],
   "source": [
    "lst_set=set(lst)\n",
    "lst_set"
   ]
  },
  {
   "cell_type": "code",
   "execution_count": 41,
   "metadata": {},
   "outputs": [
    {
     "data": {
      "text/plain": [
       "{1: 4, 2: 5, 3: 5, 4: 3, 5: 3, 6: 1}"
      ]
     },
     "execution_count": 41,
     "metadata": {},
     "output_type": "execute_result"
    }
   ],
   "source": [
    "freq_1=0\n",
    "freq_list=[]\n",
    "diction={}\n",
    "for i in lst_set:\n",
    "    freq_1=0\n",
    "    for j in lst:\n",
    "        if i==j:\n",
    "            freq_1 +=1\n",
    "    diction[i]=freq_1\n",
    "    freq_list.append(freq_1)\n",
    "\n",
    "diction"
   ]
  },
  {
   "cell_type": "code",
   "execution_count": 95,
   "metadata": {
    "scrolled": false
   },
   "outputs": [
    {
     "name": "stdout",
     "output_type": "stream",
     "text": [
      "[0, 1, 1, 2, 3, 5, 8, 13, 21, 34, 55, 89, 144, 233, 377, 610, 987, 1597, 2584, 4181, 6765, 10946, 17711, 28657, 46368, 75025, 121393, 196418, 317811, 514229, 832040, 1346269, 2178309, 3524578, 5702887, 9227465, 14930352, 24157817, 39088169, 63245986, 102334155, 165580141, 267914296, 433494437, 701408733, 1134903170, 1836311903, 2971215073, 4807526976, 7778742049, 12586269025, 20365011074]\n"
     ]
    }
   ],
   "source": [
    "f=[0,1]\n",
    "for i in range(50):\n",
    "    f.append(f[-1]+f[-2])\n",
    "#del f[1::2]\n",
    "print(f)\n",
    "    "
   ]
  },
  {
   "cell_type": "code",
   "execution_count": 94,
   "metadata": {},
   "outputs": [
    {
     "name": "stdout",
     "output_type": "stream",
     "text": [
      "[0, 2, 5, 13, 34, 89, 233, 610, 1597, 4181, 10946, 28657, 75025, 196418, 514229, 1346269, 3524578, 9227465, 24157817, 63245986]\n"
     ]
    }
   ],
   "source": [
    "f=[]\n",
    "f1=0\n",
    "f2=1\n",
    "f.append(f1)\n",
    "for i in range(1,20):\n",
    "    f1,f2=f1+f2,f1+2*f2\n",
    "    f.append(f2) #ou f1 pour les autres nombres alternants\n",
    "print(f)"
   ]
  },
  {
   "cell_type": "code",
   "execution_count": null,
   "metadata": {},
   "outputs": [],
   "source": [
    "''.join(words)"
   ]
  },
  {
   "cell_type": "code",
   "execution_count": null,
   "metadata": {},
   "outputs": [],
   "source": [
    "' '.join(words)"
   ]
  },
  {
   "cell_type": "code",
   "execution_count": 96,
   "metadata": {},
   "outputs": [],
   "source": [
    "sentence = 'Fred\\'s friends fried Fritos for Friday\\'s food.'"
   ]
  },
  {
   "cell_type": "code",
   "execution_count": null,
   "metadata": {},
   "outputs": [],
   "source": [
    "sentence.split('')"
   ]
  },
  {
   "cell_type": "code",
   "execution_count": null,
   "metadata": {},
   "outputs": [],
   "source": [
    "sentence.split('f')"
   ]
  },
  {
   "cell_type": "code",
   "execution_count": null,
   "metadata": {},
   "outputs": [],
   "source": [
    "sentence.split('.')\n"
   ]
  },
  {
   "cell_type": "code",
   "execution_count": null,
   "metadata": {},
   "outputs": [],
   "source": [
    "F=sentence.split('Fritos')"
   ]
  },
  {
   "cell_type": "code",
   "execution_count": null,
   "metadata": {},
   "outputs": [],
   "source": [
    "[i for i in F if i.startswith(' ')]\n",
    "#endswith()"
   ]
  },
  {
   "cell_type": "code",
   "execution_count": 97,
   "metadata": {},
   "outputs": [
    {
     "data": {
      "text/plain": [
       "False"
      ]
     },
     "execution_count": 97,
     "metadata": {},
     "output_type": "execute_result"
    }
   ],
   "source": [
    "\"w\" in sentence"
   ]
  },
  {
   "cell_type": "code",
   "execution_count": 98,
   "metadata": {},
   "outputs": [
    {
     "data": {
      "text/plain": [
       "True"
      ]
     },
     "execution_count": 98,
     "metadata": {},
     "output_type": "execute_result"
    }
   ],
   "source": [
    "'fried' in sentence"
   ]
  },
  {
   "cell_type": "code",
   "execution_count": null,
   "metadata": {},
   "outputs": [],
   "source": [
    "sentence.capitalize()"
   ]
  },
  {
   "cell_type": "code",
   "execution_count": null,
   "metadata": {},
   "outputs": [],
   "source": [
    "sentence.replace('f','',2)\n",
    "#un nombre négatif n'aura pas d'effet"
   ]
  },
  {
   "cell_type": "code",
   "execution_count": 101,
   "metadata": {},
   "outputs": [],
   "source": [
    "text = \"GFS WMY OG LGDVS MF SFNKYHOSU ESLLMRS, PC WS BFGW POL DMFRQMRS, PL OG CPFU M UPCCSKSFO HDMPFOSXO GC OIS LMES DMFRQMRS DGFR SFGQRI OG CPDD GFS LISSO GK LG, MFU OISF WS NGQFO OIS GNNQKKSFNSL GC SMNI DSOOSK. WS NMDD OIS EGLO CKSJQSFODY GNNQKKPFR DSOOSK OIS 'CPKLO', OIS FSXO EGLO GNNQKKPFR DSOOSK OIS 'LSNGFU' OIS CGDDGWPFR EGLO GNNQKKPFR DSOOSK OIS 'OIPKU', MFU LG GF, QFOPD WS MNNGQFO CGK MDD OIS UPCCSKSFO DSOOSKL PF OIS HDMPFOSXO LMEHDS. OISF WS DGGB MO OIS NPHISK OSXO WS WMFO OG LGDVS MFU WS MDLG NDMLLPCY POL LYEAGDL. WS CPFU OIS EGLO GNNQKKPFR LYEAGD MFU NIMFRS PO OG OIS CGKE GC OIS 'CPKLO' DSOOSK GC OIS HDMPFOSXO LMEHDS, OIS FSXO EGLO NGEEGF LYEAGD PL NIMFRSU OG OIS CGKE GC OIS 'LSNGFU' DSOOSK, MFU OIS CGDDGWPFR EGLO NGEEGF LYEAGD PL NIMFRSU OG OIS CGKE GC OIS 'OIPKU' DSOOSK, MFU LG GF, QFOPD WS MNNGQFO CGK MDD LYEAGDL GC OIS NKYHOGRKME WS WMFO OG LGDVS.\""
   ]
  },
  {
   "cell_type": "code",
   "execution_count": 102,
   "metadata": {},
   "outputs": [
    {
     "data": {
      "text/plain": [
       "\"GFS WMY tG LGDVS MF SFNKYHtSU ESLLMRS, PC WS BFGW PtL DMFRQMRS, PL tG CPFU M UPCCSKSFt HDMPFtSXt GC tIS LMES DMFRQMRS DGFR SFGQRI tG CPDD GFS LISSt GK LG, MFU tISF WS NGQFt tIS GNNQKKSFNSL GC SMNI DSttSK. WS NMDD tIS EGLt CKSJQSFtDY GNNQKKPFR DSttSK tIS 'CPKLt', tIS FSXt EGLt GNNQKKPFR DSttSK tIS 'LSNGFU' tIS CGDDGWPFR EGLt GNNQKKPFR DSttSK tIS 'tIPKU', MFU LG GF, QFtPD WS MNNGQFt CGK MDD tIS UPCCSKSFt DSttSKL PF tIS HDMPFtSXt LMEHDS. tISF WS DGGB Mt tIS NPHISK tSXt WS WMFt tG LGDVS MFU WS MDLG NDMLLPCY PtL LYEAGDL. WS CPFU tIS EGLt GNNQKKPFR LYEAGD MFU NIMFRS Pt tG tIS CGKE GC tIS 'CPKLt' DSttSK GC tIS HDMPFtSXt LMEHDS, tIS FSXt EGLt NGEEGF LYEAGD PL NIMFRSU tG tIS CGKE GC tIS 'LSNGFU' DSttSK, MFU tIS CGDDGWPFR EGLt NGEEGF LYEAGD PL NIMFRSU tG tIS CGKE GC tIS 'tIPKU' DSttSK, MFU LG GF, QFtPD WS MNNGQFt CGK MDD LYEAGDL GC tIS NKYHtGRKME WS WMFt tG LGDVS.\""
      ]
     },
     "execution_count": 102,
     "metadata": {},
     "output_type": "execute_result"
    }
   ],
   "source": [
    "text = text.replace('O','t')\n",
    "text"
   ]
  },
  {
   "cell_type": "code",
   "execution_count": 103,
   "metadata": {},
   "outputs": [
    {
     "data": {
      "text/plain": [
       "\"GFS WMY tG sGDVS MF SFNKYHtSU ESssMRS, PC WS BFGW Pts DMFRQMRS, Ps tG CPFU M UPCCSKSFt HDMPFtSXt GC tIS sMES DMFRQMRS DGFR SFGQRI tG CPDD GFS sISSt GK sG, MFU tISF WS NGQFt tIS GNNQKKSFNSs GC SMNI DSttSK. WS NMDD tIS EGst CKSJQSFtDY GNNQKKPFR DSttSK tIS 'CPKst', tIS FSXt EGst GNNQKKPFR DSttSK tIS 'sSNGFU' tIS CGDDGWPFR EGst GNNQKKPFR DSttSK tIS 'tIPKU', MFU sG GF, QFtPD WS MNNGQFt CGK MDD tIS UPCCSKSFt DSttSKs PF tIS HDMPFtSXt sMEHDS. tISF WS DGGB Mt tIS NPHISK tSXt WS WMFt tG sGDVS MFU WS MDsG NDMssPCY Pts sYEAGDs. WS CPFU tIS EGst GNNQKKPFR sYEAGD MFU NIMFRS Pt tG tIS CGKE GC tIS 'CPKst' DSttSK GC tIS HDMPFtSXt sMEHDS, tIS FSXt EGst NGEEGF sYEAGD Ps NIMFRSU tG tIS CGKE GC tIS 'sSNGFU' DSttSK, MFU tIS CGDDGWPFR EGst NGEEGF sYEAGD Ps NIMFRSU tG tIS CGKE GC tIS 'tIPKU' DSttSK, MFU sG GF, QFtPD WS MNNGQFt CGK MDD sYEAGDs GC tIS NKYHtGRKME WS WMFt tG sGDVS.\""
      ]
     },
     "execution_count": 103,
     "metadata": {},
     "output_type": "execute_result"
    }
   ],
   "source": [
    "text = text.replace('L','s')\n",
    "text\n"
   ]
  },
  {
   "cell_type": "code",
   "execution_count": 104,
   "metadata": {},
   "outputs": [
    {
     "data": {
      "text/plain": [
       "\"oFS WMY to soDVS MF SFNKYHtSU ESssMRS, PC WS BFoW Pts DMFRQMRS, Ps to CPFU M UPCCSKSFt HDMPFtSXt oC tIS sMES DMFRQMRS DoFR SFoQRI to CPDD oFS sISSt oK so, MFU tISF WS NoQFt tIS oNNQKKSFNSs oC SMNI DSttSK. WS NMDD tIS Eost CKSJQSFtDY oNNQKKPFR DSttSK tIS 'CPKst', tIS FSXt Eost oNNQKKPFR DSttSK tIS 'sSNoFU' tIS CoDDoWPFR Eost oNNQKKPFR DSttSK tIS 'tIPKU', MFU so oF, QFtPD WS MNNoQFt CoK MDD tIS UPCCSKSFt DSttSKs PF tIS HDMPFtSXt sMEHDS. tISF WS DooB Mt tIS NPHISK tSXt WS WMFt to soDVS MFU WS MDso NDMssPCY Pts sYEAoDs. WS CPFU tIS Eost oNNQKKPFR sYEAoD MFU NIMFRS Pt to tIS CoKE oC tIS 'CPKst' DSttSK oC tIS HDMPFtSXt sMEHDS, tIS FSXt Eost NoEEoF sYEAoD Ps NIMFRSU to tIS CoKE oC tIS 'sSNoFU' DSttSK, MFU tIS CoDDoWPFR Eost NoEEoF sYEAoD Ps NIMFRSU to tIS CoKE oC tIS 'tIPKU' DSttSK, MFU so oF, QFtPD WS MNNoQFt CoK MDD sYEAoDs oC tIS NKYHtoRKME WS WMFt to soDVS.\""
      ]
     },
     "execution_count": 104,
     "metadata": {},
     "output_type": "execute_result"
    }
   ],
   "source": [
    "text = text.replace('G','o')\n",
    "text\n"
   ]
  },
  {
   "cell_type": "code",
   "execution_count": 105,
   "metadata": {},
   "outputs": [
    {
     "data": {
      "text/plain": [
       "\"oFS WMY to solVS MF SFNKYHtSU ESssMRS, PC WS BFoW Pts lMFRQMRS, Ps to CPFU M UPCCSKSFt HlMPFtSXt oC tIS sMES lMFRQMRS loFR SFoQRI to CPll oFS sISSt oK so, MFU tISF WS NoQFt tIS oNNQKKSFNSs oC SMNI lSttSK. WS NMll tIS Eost CKSJQSFtlY oNNQKKPFR lSttSK tIS 'CPKst', tIS FSXt Eost oNNQKKPFR lSttSK tIS 'sSNoFU' tIS ColloWPFR Eost oNNQKKPFR lSttSK tIS 'tIPKU', MFU so oF, QFtPl WS MNNoQFt CoK Mll tIS UPCCSKSFt lSttSKs PF tIS HlMPFtSXt sMEHlS. tISF WS looB Mt tIS NPHISK tSXt WS WMFt to solVS MFU WS Mlso NlMssPCY Pts sYEAols. WS CPFU tIS Eost oNNQKKPFR sYEAol MFU NIMFRS Pt to tIS CoKE oC tIS 'CPKst' lSttSK oC tIS HlMPFtSXt sMEHlS, tIS FSXt Eost NoEEoF sYEAol Ps NIMFRSU to tIS CoKE oC tIS 'sSNoFU' lSttSK, MFU tIS ColloWPFR Eost NoEEoF sYEAol Ps NIMFRSU to tIS CoKE oC tIS 'tIPKU' lSttSK, MFU so oF, QFtPl WS MNNoQFt CoK Mll sYEAols oC tIS NKYHtoRKME WS WMFt to solVS.\""
      ]
     },
     "execution_count": 105,
     "metadata": {},
     "output_type": "execute_result"
    }
   ],
   "source": [
    "text = text.replace('D','l')\n",
    "text\n",
    "\n"
   ]
  },
  {
   "cell_type": "code",
   "execution_count": 106,
   "metadata": {},
   "outputs": [
    {
     "data": {
      "text/plain": [
       "\"oFS WMY to solVS MF SFNrYHtSU ESssMRS, PC WS BFoW Pts lMFRQMRS, Ps to CPFU M UPCCSrSFt HlMPFtSXt oC tIS sMES lMFRQMRS loFR SFoQRI to CPll oFS sISSt or so, MFU tISF WS NoQFt tIS oNNQrrSFNSs oC SMNI lSttSr. WS NMll tIS Eost CrSJQSFtlY oNNQrrPFR lSttSr tIS 'CPrst', tIS FSXt Eost oNNQrrPFR lSttSr tIS 'sSNoFU' tIS ColloWPFR Eost oNNQrrPFR lSttSr tIS 'tIPrU', MFU so oF, QFtPl WS MNNoQFt Cor Mll tIS UPCCSrSFt lSttSrs PF tIS HlMPFtSXt sMEHlS. tISF WS looB Mt tIS NPHISr tSXt WS WMFt to solVS MFU WS Mlso NlMssPCY Pts sYEAols. WS CPFU tIS Eost oNNQrrPFR sYEAol MFU NIMFRS Pt to tIS CorE oC tIS 'CPrst' lSttSr oC tIS HlMPFtSXt sMEHlS, tIS FSXt Eost NoEEoF sYEAol Ps NIMFRSU to tIS CorE oC tIS 'sSNoFU' lSttSr, MFU tIS ColloWPFR Eost NoEEoF sYEAol Ps NIMFRSU to tIS CorE oC tIS 'tIPrU' lSttSr, MFU so oF, QFtPl WS MNNoQFt Cor Mll sYEAols oC tIS NrYHtoRrME WS WMFt to solVS.\""
      ]
     },
     "execution_count": 106,
     "metadata": {},
     "output_type": "execute_result"
    }
   ],
   "source": [
    "text = text.replace('K','r')\n",
    "text\n",
    "\n"
   ]
  },
  {
   "cell_type": "code",
   "execution_count": 107,
   "metadata": {},
   "outputs": [
    {
     "data": {
      "text/plain": [
       "\"one WMY to solVe Mn enNrYHteU EessMRe, PC We BnoW Pts lMnRQMRe, Ps to CPnU M UPCCerent HlMPnteXt oC tIe sMEe lMnRQMRe lonR enoQRI to CPll one sIeet or so, MnU tIen We NoQnt tIe oNNQrrenNes oC eMNI letter. We NMll tIe Eost CreJQentlY oNNQrrPnR letter tIe 'CPrst', tIe neXt Eost oNNQrrPnR letter tIe 'seNonU' tIe ColloWPnR Eost oNNQrrPnR letter tIe 'tIPrU', MnU so on, QntPl We MNNoQnt Cor Mll tIe UPCCerent letters Pn tIe HlMPnteXt sMEHle. tIen We looB Mt tIe NPHIer teXt We WMnt to solVe MnU We Mlso NlMssPCY Pts sYEAols. We CPnU tIe Eost oNNQrrPnR sYEAol MnU NIMnRe Pt to tIe CorE oC tIe 'CPrst' letter oC tIe HlMPnteXt sMEHle, tIe neXt Eost NoEEon sYEAol Ps NIMnReU to tIe CorE oC tIe 'seNonU' letter, MnU tIe ColloWPnR Eost NoEEon sYEAol Ps NIMnReU to tIe CorE oC tIe 'tIPrU' letter, MnU so on, QntPl We MNNoQnt Cor Mll sYEAols oC tIe NrYHtoRrME We WMnt to solVe.\""
      ]
     },
     "execution_count": 107,
     "metadata": {},
     "output_type": "execute_result"
    }
   ],
   "source": [
    "text = text.replace('F','n').replace('S','e')\n",
    "text\n",
    "\n"
   ]
  },
  {
   "cell_type": "code",
   "execution_count": 108,
   "metadata": {},
   "outputs": [
    {
     "data": {
      "text/plain": [
       "\"one WMY to solVe Mn enNrYpteU messMRe, PC We BnoW Pts lMnRQMRe, Ps to CPnU M UPCCerent plMPnteXt oC tIe sMme lMnRQMRe lonR enoQRI to CPll one sIeet or so, MnU tIen We NoQnt tIe oNNQrrenNes oC eMNI letter. We NMll tIe most CreJQentlY oNNQrrPnR letter tIe 'CPrst', tIe neXt most oNNQrrPnR letter tIe 'seNonU' tIe ColloWPnR most oNNQrrPnR letter tIe 'tIPrU', MnU so on, QntPl We MNNoQnt Cor Mll tIe UPCCerent letters Pn tIe plMPnteXt sMmple. tIen We looB Mt tIe NPpIer teXt We WMnt to solVe MnU We Mlso NlMssPCY Pts sYmAols. We CPnU tIe most oNNQrrPnR sYmAol MnU NIMnRe Pt to tIe Corm oC tIe 'CPrst' letter oC tIe plMPnteXt sMmple, tIe neXt most Nommon sYmAol Ps NIMnReU to tIe Corm oC tIe 'seNonU' letter, MnU tIe ColloWPnR most Nommon sYmAol Ps NIMnReU to tIe Corm oC tIe 'tIPrU' letter, MnU so on, QntPl We MNNoQnt Cor Mll sYmAols oC tIe NrYptoRrMm We WMnt to solVe.\""
      ]
     },
     "execution_count": 108,
     "metadata": {},
     "output_type": "execute_result"
    }
   ],
   "source": [
    "text = text.replace('E','m').replace('H','p')\n",
    "text\n",
    "\n"
   ]
  },
  {
   "cell_type": "code",
   "execution_count": 109,
   "metadata": {},
   "outputs": [
    {
     "data": {
      "text/plain": [
       "\"one WMY to solVe Mn enNrYpted messMge, PC We BnoW Pts lMngQMge, Ps to CPnd M dPCCerent plMPnteXt oC tIe sMme lMngQMge long enoQgI to CPll one sIeet or so, Mnd tIen We NoQnt tIe oNNQrrenNes oC eMNI letter. We NMll tIe most CreJQentlY oNNQrrPng letter tIe 'CPrst', tIe neXt most oNNQrrPng letter tIe 'seNond' tIe ColloWPng most oNNQrrPng letter tIe 'tIPrd', Mnd so on, QntPl We MNNoQnt Cor Mll tIe dPCCerent letters Pn tIe plMPnteXt sMmple. tIen We looB Mt tIe NPpIer teXt We WMnt to solVe Mnd We Mlso NlMssPCY Pts sYmAols. We CPnd tIe most oNNQrrPng sYmAol Mnd NIMnge Pt to tIe Corm oC tIe 'CPrst' letter oC tIe plMPnteXt sMmple, tIe neXt most Nommon sYmAol Ps NIMnged to tIe Corm oC tIe 'seNond' letter, Mnd tIe ColloWPng most Nommon sYmAol Ps NIMnged to tIe Corm oC tIe 'tIPrd' letter, Mnd so on, QntPl We MNNoQnt Cor Mll sYmAols oC tIe NrYptogrMm We WMnt to solVe.\""
      ]
     },
     "execution_count": 109,
     "metadata": {},
     "output_type": "execute_result"
    }
   ],
   "source": [
    "text = text.replace('U','d').replace('R','g')\n",
    "text\n",
    "\n"
   ]
  },
  {
   "cell_type": "code",
   "execution_count": 110,
   "metadata": {},
   "outputs": [
    {
     "data": {
      "text/plain": [
       "\"one WaY to solVe an enNrYpted message, PC We BnoW Pts langQage, Ps to CPnd a dPCCerent plaPnteXt oC tIe same langQage long enoQgI to CPll one sIeet or so, and tIen We NoQnt tIe oNNQrrenNes oC eaNI letter. We Nall tIe most CreqQentlY oNNQrrPng letter tIe 'CPrst', tIe neXt most oNNQrrPng letter tIe 'seNond' tIe ColloWPng most oNNQrrPng letter tIe 'tIPrd', and so on, QntPl We aNNoQnt Cor all tIe dPCCerent letters Pn tIe plaPnteXt sample. tIen We looB at tIe NPpIer teXt We Want to solVe and We also NlassPCY Pts sYmAols. We CPnd tIe most oNNQrrPng sYmAol and NIange Pt to tIe Corm oC tIe 'CPrst' letter oC tIe plaPnteXt sample, tIe neXt most Nommon sYmAol Ps NIanged to tIe Corm oC tIe 'seNond' letter, and tIe ColloWPng most Nommon sYmAol Ps NIanged to tIe Corm oC tIe 'tIPrd' letter, and so on, QntPl We aNNoQnt Cor all sYmAols oC tIe NrYptogram We Want to solVe.\""
      ]
     },
     "execution_count": 110,
     "metadata": {},
     "output_type": "execute_result"
    }
   ],
   "source": [
    "text = text.replace('M','a').replace('J','q')\n",
    "text\n",
    "\n"
   ]
  },
  {
   "cell_type": "code",
   "execution_count": 111,
   "metadata": {},
   "outputs": [
    {
     "data": {
      "text/plain": [
       "\"one WaY to solVe an enNrYpted message, PC We BnoW Pts language, Ps to CPnd a dPCCerent plaPnteXt oC tIe same language long enougI to CPll one sIeet or so, and tIen We Nount tIe oNNurrenNes oC eaNI letter. We Nall tIe most CrequentlY oNNurrPng letter tIe 'CPrst', tIe neXt most oNNurrPng letter tIe 'seNond' tIe ColloWPng most oNNurrPng letter tIe 'tIPrd', and so on, untPl We aNNount Cor all tIe dPCCerent letters Pn tIe plaPnteXt sample. tIen We looB at tIe NPpIer teXt We Want to solVe and We also NlassPCY Pts sYmbols. We CPnd tIe most oNNurrPng sYmbol and NIange Pt to tIe Corm oC tIe 'CPrst' letter oC tIe plaPnteXt sample, tIe neXt most Nommon sYmbol Ps NIanged to tIe Corm oC tIe 'seNond' letter, and tIe ColloWPng most Nommon sYmbol Ps NIanged to tIe Corm oC tIe 'tIPrd' letter, and so on, untPl We aNNount Cor all sYmbols oC tIe NrYptogram We Want to solVe.\""
      ]
     },
     "execution_count": 111,
     "metadata": {},
     "output_type": "execute_result"
    }
   ],
   "source": [
    "text = text.replace('Q','u').replace('A','b')\n",
    "text\n",
    "\n"
   ]
  },
  {
   "cell_type": "code",
   "execution_count": 112,
   "metadata": {},
   "outputs": [
    {
     "data": {
      "text/plain": [
       "\"one WaY to solVe an encrYpted message, PC We BnoW Pts language, Ps to CPnd a dPCCerent plaPnteXt oC the same language long enough to CPll one sheet or so, and then We count the occurrences oC each letter. We call the most CrequentlY occurrPng letter the 'CPrst', the neXt most occurrPng letter the 'second' the ColloWPng most occurrPng letter the 'thPrd', and so on, untPl We account Cor all the dPCCerent letters Pn the plaPnteXt sample. then We looB at the cPpher teXt We Want to solVe and We also classPCY Pts sYmbols. We CPnd the most occurrPng sYmbol and change Pt to the Corm oC the 'CPrst' letter oC the plaPnteXt sample, the neXt most common sYmbol Ps changed to the Corm oC the 'second' letter, and the ColloWPng most common sYmbol Ps changed to the Corm oC the 'thPrd' letter, and so on, untPl We account Cor all sYmbols oC the crYptogram We Want to solVe.\""
      ]
     },
     "execution_count": 112,
     "metadata": {},
     "output_type": "execute_result"
    }
   ],
   "source": [
    "text = text.replace('N','c').replace('I','h')\n",
    "text\n",
    "\n"
   ]
  },
  {
   "cell_type": "code",
   "execution_count": 115,
   "metadata": {},
   "outputs": [
    {
     "data": {
      "text/plain": [
       "\"one Way to solVe an encrypted message, if We knoW its language, is to find a different plainteXt of the same language long enough to fill one sheet or so, and then We count the occurrences of each letter. We call the most frequently occurring letter the 'first', the neXt most occurring letter the 'second' the folloWing most occurring letter the 'third', and so on, until We account for all the different letters in the plainteXt sample. then We look at the cipher teXt We Want to solVe and We also classify its symbols. We find the most occurring symbol and change it to the form of the 'first' letter of the plainteXt sample, the neXt most common symbol is changed to the form of the 'second' letter, and the folloWing most common symbol is changed to the form of the 'third' letter, and so on, until We account for all symbols of the cryptogram We Want to solVe.\""
      ]
     },
     "execution_count": 115,
     "metadata": {},
     "output_type": "execute_result"
    }
   ],
   "source": [
    "text = text.replace('P','i').replace('C','f').replace('B','k').replace('Y','y')\n",
    "text\n",
    "\n"
   ]
  },
  {
   "cell_type": "code",
   "execution_count": null,
   "metadata": {},
   "outputs": [],
   "source": []
  }
 ],
 "metadata": {
  "kernelspec": {
   "display_name": "Python 3",
   "language": "python",
   "name": "python3"
  },
  "language_info": {
   "codemirror_mode": {
    "name": "ipython",
    "version": 3
   },
   "file_extension": ".py",
   "mimetype": "text/x-python",
   "name": "python",
   "nbconvert_exporter": "python",
   "pygments_lexer": "ipython3",
   "version": "3.7.3"
  }
 },
 "nbformat": 4,
 "nbformat_minor": 2
}
