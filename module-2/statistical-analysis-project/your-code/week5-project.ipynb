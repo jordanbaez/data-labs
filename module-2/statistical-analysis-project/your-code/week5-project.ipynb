{
 "cells": [
  {
   "cell_type": "code",
   "execution_count": null,
   "metadata": {},
   "outputs": [],
   "source": [
    "import pandas as pd\n",
    "import matplotlib.pyplot as plt\n",
    "import seaborn as sns\n",
    "import warnings\n",
    "\n",
    "warnings.filterwarnings('ignore')\n",
    "%matplotlib inline"
   ]
  },
  {
   "cell_type": "code",
   "execution_count": null,
   "metadata": {},
   "outputs": [],
   "source": [
    "loans = pd.read_csv('kiva_loans.csv')\n",
    "#loans.head()\n",
    "loans.columns\n"
   ]
  },
  {
   "cell_type": "code",
   "execution_count": null,
   "metadata": {},
   "outputs": [],
   "source": [
    "lenders = pd.read_csv('lenders.csv')\n"
   ]
  },
  {
   "cell_type": "code",
   "execution_count": null,
   "metadata": {},
   "outputs": [],
   "source": [
    "loans = lns.drop(['repayment_interval','date','use','id','tags', \n",
    "                  'funded_amount','term_in_months','partner_id',\n",
    "                  'region','posted_time', 'disbursed_time', 'funded_time',],axis=1)\n",
    "loans = loans.fillna('unknown')\n",
    "loans.loc[loans['borrower_genders'].str.contains('emale'), 'borrower_genders'] = 'female'\n",
    "loans.loc[loans['borrower_genders'].str.contains(', male'), 'borrower_genders'] = 'male'\n",
    "\n",
    "loans.borrower_genders.value_counts()"
   ]
  },
  {
   "cell_type": "code",
   "execution_count": null,
   "metadata": {},
   "outputs": [],
   "source": [
    "loans.head()"
   ]
  },
  {
   "cell_type": "code",
   "execution_count": null,
   "metadata": {},
   "outputs": [],
   "source": [
    "lenders.columns"
   ]
  },
  {
   "cell_type": "code",
   "execution_count": null,
   "metadata": {},
   "outputs": [],
   "source": [
    "lenders = lenders.drop(['permanent_name', 'display_name', 'city', 'state',\n",
    "                 'member_since', 'occupation', 'loan_because',\n",
    "                 'invited_by', 'num_invited'],axis=1)\n",
    "lenders.rename(columns= {\"country_code\":\"state\"}, inplace=True)\n",
    "lenders = lenders[pd.isnull(lenders['state']) == False]\n",
    "lenders = lenders.groupby('state').filter(lambda x : len(x)>300)"
   ]
  },
  {
   "cell_type": "code",
   "execution_count": null,
   "metadata": {},
   "outputs": [],
   "source": [
    "print(lenders.shape)\n",
    "print(lenders.state.value_counts())"
   ]
  },
  {
   "cell_type": "code",
   "execution_count": null,
   "metadata": {},
   "outputs": [],
   "source": [
    "themes = pd.read_csv('loan_themes_by_region.csv')"
   ]
  },
  {
   "cell_type": "code",
   "execution_count": null,
   "metadata": {},
   "outputs": [],
   "source": [
    "print(themes.shape)\n",
    "print(themes.columns)"
   ]
  },
  {
   "cell_type": "code",
   "execution_count": null,
   "metadata": {},
   "outputs": [],
   "source": [
    "themes = themes.drop(['LocationName', 'geocode', 'names', 'geo', 'lat',\n",
    "       'lon', 'mpi_region', 'mpi_geo', 'rural_pct','forkiva', 'region', \n",
    "                      'geocode_old', 'ISO','number','Partner ID', \n",
    "                      'Field Partner Name', 'sector', 'Loan Theme ID' ],axis=1)\n",
    "themes.rename(columns= {'Loan Theme Type':\"theme\"}, inplace=True)\n",
    "themes = themes.groupby('country').filter(lambda x : len(x)>130)"
   ]
  },
  {
   "cell_type": "code",
   "execution_count": null,
   "metadata": {},
   "outputs": [],
   "source": [
    "amounts = themes.groupby('country').agg(sum)\n",
    "amounts = amounts.sort_values(by=['amount'],ascending=False)\n",
    "amounts"
   ]
  },
  {
   "cell_type": "code",
   "execution_count": null,
   "metadata": {},
   "outputs": [],
   "source": [
    "themes.loc[themes['theme'].str.contains('Mothers'), 'theme'] = 'Women'\n",
    "themes.loc[themes['theme'].str.contains('Clean'), 'theme'] = 'Green'\n",
    "themes.loc[themes['theme'].str.contains('Vulnerable'), 'theme'] = 'Underserved'\n",
    "themes.loc[themes['theme'].str.contains('Chance'), 'theme'] = 'Underserved'\n",
    "themes.loc[themes['theme'].str.contains('Finance'), 'theme'] = 'Finance'\n",
    "themes.loc[themes['theme'].str.contains('bank'), 'theme'] = 'Finance'\n",
    "themes.loc[themes['theme'].str.contains('Loan'), 'theme'] = 'Finance'\n",
    "themes.loc[themes['theme'].str.contains('Youth'), 'theme'] = 'Youth'\n",
    "themes.loc[themes['theme'].str.contains('Transactions'), 'theme'] = 'Finance'\n",
    "themes.loc[themes['theme'].str.contains('Agriculture'), 'theme'] = 'Agriculture'\n",
    "themes.loc[themes['theme'].str.contains('Mothers'), 'theme'] = 'Women'\n",
    "themes.loc[themes['theme'].str.contains('Water'), 'theme'] = 'Water'\n",
    "themes.loc[themes['theme'].str.contains('ducation'),'theme'] = 'Education'\n",
    "themes.loc[themes['theme'].str.contains('Water'), 'theme'] = 'Water'\n",
    "themes.loc[themes['theme'].str.contains('mothers'), 'theme'] = 'Women'\n",
    "themes.loc[themes['theme'].str.contains('Underserved'), 'theme'] = 'Underserved'\n",
    "themes.loc[themes['theme'].str.contains('Artisan'), 'theme'] = 'SME'\n",
    "themes.loc[themes['theme'].str.contains('Bio'), 'theme'] = 'Green'\n",
    "themes.loc[themes['theme'].str.contains('loan'), 'theme'] = 'Finance'\n",
    "themes.loc[themes['theme'].str.contains('Sanitation'), 'theme'] = 'Water'\n",
    "themes.loc[themes['theme'].str.contains('credit'), 'theme'] = 'Finance'\n",
    "themes.loc[themes['theme'].str.contains('Solar'), 'theme'] = 'Green'\n",
    "themes.loc[themes['theme'].str.contains('Small'), 'theme'] = 'SME'\n",
    "themes.loc[themes['theme'].str.contains('gricultural'), 'theme'] = 'Agriculture'\n",
    "themes.loc[themes['theme'].str.contains('Displaced'), 'theme'] = 'Housing'\n",
    "themes.loc[themes['theme'].str.contains('Housing'), 'theme'] = 'Housing'\n",
    "themes.loc[themes['theme'].str.contains('omen'), 'theme'] = 'Women'\n",
    "\n",
    "#for i, row in themes[['theme']].iterrows():\n",
    " #   if ('Women' in themes.at[i,'theme']) == True : \n",
    "  #    themes.at[i,'theme'] = 'Women'"
   ]
  },
  {
   "cell_type": "code",
   "execution_count": null,
   "metadata": {},
   "outputs": [],
   "source": [
    "themes = themes.groupby('theme').filter(lambda x : len(x)>100)\n"
   ]
  },
  {
   "cell_type": "code",
   "execution_count": null,
   "metadata": {},
   "outputs": [],
   "source": [
    "import requests\n",
    "from bs4 import BeautifulSoup\n",
    "\n",
    "\n",
    "def urls(url):\n",
    "  r = requests.get(url)\n",
    "  r.content\n",
    "  soup= BeautifulSoup(r.content, 'html.parser')\n",
    "  return soup"
   ]
  },
  {
   "cell_type": "code",
   "execution_count": null,
   "metadata": {},
   "outputs": [],
   "source": [
    "\n",
    "url = 'https://en.wikipedia.org/wiki/List_of_countries_by_GDP_(PPP)_per_capita'\n",
    "  \n",
    "soup = urls(url)\n",
    "  \n",
    "table=soup.find_all('table',{'class':'wikitable'})\n",
    "\n",
    "rows=table[0].find_all('tr')\n",
    "rows=[row.text.strip().split('\\n') for row in rows]\n"
   ]
  },
  {
   "cell_type": "code",
   "execution_count": null,
   "metadata": {},
   "outputs": [],
   "source": [
    "def restr(x):\n",
    "    if len(x)>4:\n",
    "        x[3]=='\\n'.join(x[3:])\n",
    "        del x[4:]\n",
    "    elif len(x)==3:\n",
    "        x.append(\"\")\n",
    "    return x\n",
    "rows=[restr(x) for x in rows]\n"
   ]
  },
  {
   "cell_type": "code",
   "execution_count": null,
   "metadata": {},
   "outputs": [],
   "source": [
    "df=pd.DataFrame([len(x) for x in rows])\n",
    "df[0].value_counts()\n",
    "colnames = rows[0]\n",
    "data = rows[1:]\n",
    "\n",
    "df = pd.DataFrame(data, columns=colnames)\n",
    "df.rename(index=str, columns={'':'Country',\n",
    "                                'Country/Territory':'GDP'}, inplace=True)\n",
    "\n",
    "df1 = df.iloc[:,0:3]"
   ]
  },
  {
   "cell_type": "code",
   "execution_count": null,
   "metadata": {},
   "outputs": [],
   "source": [
    "df1.Country=[' '.join(i) for i in df1.Country.str.split()]\n",
    "#\\xa0 white space erased\n",
    "# #df2['Country'] =[ i.replace('\\xa0', '') for i in df2['Country']]\n"
   ]
  },
  {
   "cell_type": "code",
   "execution_count": null,
   "metadata": {},
   "outputs": [],
   "source": [
    "merged = df1.merge(amounts, left_on='Country', right_on='country', how='inner')\n",
    "merged = merged.drop(['country'],axis=1)\n",
    "merged = merged.sort_values('amount')"
   ]
  },
  {
   "cell_type": "code",
   "execution_count": null,
   "metadata": {},
   "outputs": [],
   "source": [
    "url2 = 'https://en.wikipedia.org/wiki/List_of_countries_and_dependencies_by_population'\n",
    "  \n",
    "soup2 = urls(url2)\n",
    "  \n",
    "table2=soup2.find_all('table',{'class':'wikitable'})\n",
    "rows2=table2[0].find_all('tr')\n",
    "rows2=[row.text.strip().split('\\n') for row in rows2]\n",
    "\n",
    "def essai(x):\n",
    "    if len(x)>4:\n",
    "        x[3]=='\\n'.join(x[5:])\n",
    "        del x[5:]\n",
    "    elif len(x)==3:\n",
    "        x.append(\"\")\n",
    "    return x\n",
    "\n",
    "rows2=[essai(x) for x in rows2]\n",
    "\n",
    "p=pd.DataFrame([len(x) for x in rows2])\n",
    "p[0].value_counts()\n",
    "colnames = rows2[0]\n",
    "data = rows2[1:]\n",
    "peeps = pd.DataFrame(data, columns=colnames)"
   ]
  },
  {
   "cell_type": "code",
   "execution_count": null,
   "metadata": {},
   "outputs": [],
   "source": [
    "pops = peeps.drop(['Rank', 'Date','Country(or dependent territory)'\n",
    "       ],axis=1)\n",
    "pops.rename(index=str, columns={'% of worldpopulation':'Population',\n",
    "                               'Population':'Country' \n",
    "                             }, inplace=True)"
   ]
  },
  {
   "cell_type": "code",
   "execution_count": null,
   "metadata": {},
   "outputs": [],
   "source": [
    "import re\n",
    "pops.Country = pops.Country.apply(lambda x : (re.split(r'\\[',x)[0].strip()))"
   ]
  },
  {
   "cell_type": "code",
   "execution_count": null,
   "metadata": {},
   "outputs": [],
   "source": [
    "df3 = merged.merge(pops, left_on='Country', right_on='Country', how='inner')\n"
   ]
  },
  {
   "cell_type": "code",
   "execution_count": null,
   "metadata": {},
   "outputs": [],
   "source": [
    "df3.Population=df3.Population.str.replace(\",\",\"\").astype(int)\n",
    "df3.GDP=df3.GDP.str.replace(\",\",\"\").astype(int)\n",
    "df3.Rank=df3.Rank.astype(int)"
   ]
  },
  {
   "cell_type": "code",
   "execution_count": null,
   "metadata": {},
   "outputs": [],
   "source": [
    "df3['Funding_p1000'] = df3.amount / df3.Population * 1000\n"
   ]
  },
  {
   "cell_type": "code",
   "execution_count": null,
   "metadata": {},
   "outputs": [],
   "source": [
    "countries = pd.DataFrame(themes.country.value_counts().reset_index())\n",
    "countries.columns = ['countries', 'count']\n",
    "\n",
    "df4 = df3.merge(countries, left_on='Country', right_on='countries', how='inner')"
   ]
  },
  {
   "cell_type": "code",
   "execution_count": null,
   "metadata": {},
   "outputs": [],
   "source": [
    "df4 = df4.drop(['countries'],axis=1)\n",
    "df4['Avg_funding'] = round(df4.amount/df4['count'],0)\n",
    "df4['Projects_p1MLN'] = round(df4['count']*1000000/df4.Population,1)\n"
   ]
  },
  {
   "cell_type": "code",
   "execution_count": null,
   "metadata": {},
   "outputs": [],
   "source": [
    "df4.boxplot(column='Projects_p1MLN')"
   ]
  },
  {
   "cell_type": "code",
   "execution_count": null,
   "metadata": {},
   "outputs": [],
   "source": [
    "\n",
    "df4 = df4.loc[df4['Projects_p1MLN']!=df4['Projects_p1MLN'].max()]\n",
    "df4.boxplot(column='Funding_p1000')"
   ]
  },
  {
   "cell_type": "code",
   "execution_count": null,
   "metadata": {},
   "outputs": [],
   "source": [
    "\n",
    "df4 = df4.loc[df4['Funding_p1000']!=df4['Funding_p1000'].max()]\n",
    "\n",
    "df4.boxplot(column='amount')\n"
   ]
  },
  {
   "cell_type": "code",
   "execution_count": null,
   "metadata": {},
   "outputs": [],
   "source": [
    "df4 = df4.loc[df4['amount']!=df4['amount'].max()]\n",
    "df4.boxplot(column='Avg_funding')\n"
   ]
  },
  {
   "cell_type": "code",
   "execution_count": null,
   "metadata": {},
   "outputs": [],
   "source": [
    "df8 = df4.loc[df4['Avg_funding']!=df4['Avg_funding'].max()]\n",
    "\n",
    "\n",
    "# number of projects per country for 1 million people\n",
    "\n",
    "df8.head()"
   ]
  },
  {
   "cell_type": "code",
   "execution_count": null,
   "metadata": {},
   "outputs": [],
   "source": [
    "sns.heatmap(df8.corr(), cmap='YlGnBu')\n"
   ]
  },
  {
   "cell_type": "code",
   "execution_count": null,
   "metadata": {},
   "outputs": [],
   "source": [
    "df8.corr()"
   ]
  },
  {
   "cell_type": "code",
   "execution_count": null,
   "metadata": {},
   "outputs": [],
   "source": [
    "sns.lmplot('Avg_funding','amount',data=df8)\n",
    "plt.xlim(0, 65000)\n",
    "\n",
    "plt.ylim(0, 21000000)"
   ]
  },
  {
   "cell_type": "code",
   "execution_count": null,
   "metadata": {},
   "outputs": [],
   "source": [
    "sns.lmplot('count','amount',data=df8)\n",
    "plt.xlim(0, 900)\n",
    "plt.ylim(0, 21000000)"
   ]
  },
  {
   "cell_type": "code",
   "execution_count": null,
   "metadata": {},
   "outputs": [],
   "source": [
    "sns.jointplot(y='amount',x='Funding_p1000',data=df8, kind='reg')\n"
   ]
  },
  {
   "cell_type": "markdown",
   "metadata": {},
   "source": [
    "\n",
    "http://www.uta.fi/yky/en/studies/disciplines/northamericanstudies/summer_school/2013_Yan_Chen_Kiva_Experiment_2013_06_60min.pdf https://hackernoon.com/community-focused-growth-8a4c5a686def \n",
    "slides https://slideplayer.com/slide/4061274/"
   ]
  },
  {
   "cell_type": "code",
   "execution_count": null,
   "metadata": {},
   "outputs": [],
   "source": [
    "from statsmodels.stats.outliers_influence import variance_inflation_factor as vif\n",
    "X=df8.assign(const=1)\n",
    "X = X.drop(['Country'], axis=1)\n",
    "pd.Series([vif(X.values,i) for i in range(X.shape[1])],index=X.columns)"
   ]
  },
  {
   "cell_type": "code",
   "execution_count": null,
   "metadata": {},
   "outputs": [],
   "source": [
    "import statsmodels.formula.api as smf\n",
    "\n",
    "def get_vif(exogs,data):\n",
    "    vif_array=np.array([])\n",
    "    tolerance_array=np.array([])\n",
    "    \n",
    "    for exog in exogs:\n",
    "        not_exog=[i for i in exogs if i!=exog]\n",
    "        formula=f\"{exog} ~ {' + '.join(not_exog)}\"\n",
    "        \n",
    "        r_squared=smf.ols(formula,data=data).fit().rsquared\n",
    "        \n",
    "        vif=1/(1-r_squared)\n",
    "        vif_array=np.append(vif_array,vif).round(2)\n",
    "        \n",
    "        tolerance=1-r_squared\n",
    "        tolerance_array=np.append(tolerance_array,tolerance).round(2)\n",
    "    df_vif=pd.DataFrame({'VIF':vif_array,'Tolerance':tolerance_array},index=exogs)\n",
    "    \n",
    "    return df_vif"
   ]
  },
  {
   "cell_type": "code",
   "execution_count": null,
   "metadata": {},
   "outputs": [],
   "source": [
    "import numpy as np\n",
    "df9 = df8.drop(['Country'], axis=1)\n",
    "df9 = df9.drop(['Rank'], axis=1)\n",
    "get_vif(exogs=df9.columns,data=df8)"
   ]
  },
  {
   "cell_type": "code",
   "execution_count": null,
   "metadata": {},
   "outputs": [],
   "source": [
    "df9=(df9-df9.mean())/df9.std()\n",
    "df9.shape"
   ]
  },
  {
   "cell_type": "code",
   "execution_count": null,
   "metadata": {},
   "outputs": [],
   "source": [
    "\n",
    "results = smf.ols(' Avg_funding ~ Projects_p1MLN+amount', data=df9).fit()\n",
    "\n",
    "# Inspect the results\n",
    "print(results.summary())"
   ]
  },
  {
   "cell_type": "code",
   "execution_count": null,
   "metadata": {},
   "outputs": [],
   "source": [
    "loans.head()"
   ]
  },
  {
   "cell_type": "code",
   "execution_count": null,
   "metadata": {},
   "outputs": [],
   "source": [
    "loans2 = loans.loc[loans['borrower_genders']!='unknown']\n",
    "loans2.head()\n"
   ]
  },
  {
   "cell_type": "code",
   "execution_count": null,
   "metadata": {},
   "outputs": [],
   "source": [
    "amounts_pG = loans2.groupby(['country','borrower_genders']).agg(sum)\n",
    "amounts_pG = amounts_pG.reset_index()\n",
    "\n",
    "amounts_pG=amounts_pG.drop(['activity', 'sector', 'country_code', 'currency'],axis=1)\n",
    "amounts_pG.columns"
   ]
  },
  {
   "cell_type": "code",
   "execution_count": null,
   "metadata": {},
   "outputs": [],
   "source": [
    "amounts_pG['isFemale']=[1 if i == 'female' else 0 for i in amounts_pG.borrower_genders]\n",
    "amounts_pG['Avg_funding'] = round(amounts_pG.loan_amount/amounts_pG['lender_count'],0)\n",
    "amounts_pG = amounts_pG.sort_values('lender_count' )\n",
    "amounts_pG = amounts_pG.loc[amounts_pG['lender_count']>1000]\n",
    "\n",
    "amounts_pG.head()\n"
   ]
  },
  {
   "cell_type": "code",
   "execution_count": null,
   "metadata": {},
   "outputs": [],
   "source": [
    "amounts_pG = amounts_pG.drop(['country'],axis=1)\n",
    "amounts_pG = amounts_pG.drop(['borrower_genders'],axis=1)\n"
   ]
  },
  {
   "cell_type": "code",
   "execution_count": null,
   "metadata": {},
   "outputs": [],
   "source": [
    "amounts_pG.boxplot(column='lender_count')"
   ]
  },
  {
   "cell_type": "code",
   "execution_count": null,
   "metadata": {},
   "outputs": [],
   "source": [
    "amounts_pG = amounts_pG.loc[amounts_pG['lender_count']!=0]\n",
    "amounts_pG = amounts_pG.loc[amounts_pG['Avg_funding']<50]\n",
    "amounts_pG = amounts_pG.loc[amounts_pG['loan_amount']<9000000]\n",
    "amounts_pG = amounts_pG.loc[amounts_pG['lender_count']<500000]"
   ]
  }
 ],
 "metadata": {
  "kernelspec": {
   "display_name": "Python 3",
   "language": "python",
   "name": "python3"
  },
  "language_info": {
   "codemirror_mode": {
    "name": "ipython",
    "version": 3
   },
   "file_extension": ".py",
   "mimetype": "text/x-python",
   "name": "python",
   "nbconvert_exporter": "python",
   "pygments_lexer": "ipython3",
   "version": "3.7.3"
  }
 },
 "nbformat": 4,
 "nbformat_minor": 2
}
