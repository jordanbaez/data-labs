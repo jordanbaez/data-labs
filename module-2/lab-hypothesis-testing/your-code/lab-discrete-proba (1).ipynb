{
 "cells": [
  {
   "cell_type": "markdown",
   "metadata": {
    "colab_type": "text",
    "id": "XgOA9nCYCpp9"
   },
   "source": [
    "# Before your start:\n",
    "\n",
    "    Read the README.md file\n",
    "    Comment as much as you can and use the resources (README.md file)\n",
    "    Happy learning!\n",
    "\n",
    "*Notes:* \n",
    "\n",
    "- Solve the questions with python.\n",
    "\n",
    "- Round the final answer to three decimal places."
   ]
  },
  {
   "cell_type": "markdown",
   "metadata": {
    "colab_type": "text",
    "id": "DeLjGD0iCpp_"
   },
   "source": [
    "## Bernoulli's Distribution\n",
    "\n",
    "In a basket containing 100 fruits, there are 60 apples and 40 oranges. \n",
    "\n",
    "A fruit is picked randomly from the basket. \n",
    "\n",
    "1. **What is the probability that the fruit is apple?**\n",
    "1. **What is the probability that it is an orange?**"
   ]
  },
  {
   "cell_type": "code",
   "execution_count": 0,
   "metadata": {
    "colab": {},
    "colab_type": "code",
    "id": "pp9tqdxKCpqC"
   },
   "outputs": [],
   "source": [
    "\"\"\"\n",
    "Calculate:\n",
    "p = probability that the fruit is an apple \n",
    "q = probability that the fruit is an orange\n",
    "\"\"\"\n",
    "\n",
    "P(apple = 1) = 0.6 = p\n",
    "P(apple = 0) = q = 1 - p = 0.4\n",
    "\n"
   ]
  },
  {
   "cell_type": "markdown",
   "metadata": {
    "colab_type": "text",
    "id": "D8KGDr-hCpqK"
   },
   "source": [
    "Now we take a random sample of 20 fruits from the basket. After each fruit is taken, a new fruit of the same type is replaced in the basket. Therefore, every time we are taking 1 fruit from 100 fruits. \n",
    "\n",
    "1. **What is the probability that the first 5 fruits are all apples?**\n",
    "\n",
    "1. **What is the probability that the first 5 fruits are all apples and the next 15 fruits are all oranges?**\n",
    "\n",
    "You can include the `p` and `q` probabilities you previous calculated in your solution."
   ]
  },
  {
   "cell_type": "code",
   "execution_count": 4,
   "metadata": {
    "colab": {
     "base_uri": "https://localhost:8080/",
     "height": 35
    },
    "colab_type": "code",
    "executionInfo": {
     "elapsed": 1155,
     "status": "ok",
     "timestamp": 1560417932961,
     "user": {
      "displayName": "andrea carrey",
      "photoUrl": "",
      "userId": "16238584523302737838"
     },
     "user_tz": -120
    },
    "id": "Q0ngUhHnCpqM",
    "outputId": "dbe6c0ae-1847-4c81-8f07-514d0aed64e1"
   },
   "outputs": [
    {
     "data": {
      "text/plain": [
       "2.0873541058560012e-07"
      ]
     },
     "execution_count": 4,
     "metadata": {
      "tags": []
     },
     "output_type": "execute_result"
    }
   ],
   "source": [
    "apple = (0.6**5 )\n",
    "apple_and_oranges = (0.6**5 )*( 0.4 **14)\n",
    "\n",
    "binom(20,0.6).pmf(5)"
   ]
  },
  {
   "cell_type": "markdown",
   "metadata": {
    "colab_type": "text",
    "id": "z570klX-CpqR"
   },
   "source": [
    "## Binomial Distribution\n",
    "\n",
    "Similar to the above problem, this time again we randomly sample 20 fruits.\n",
    "\n",
    "**What is the probability that this time the sample contains 5 apples and 15 oranges?**\n",
    "\n",
    "Please note that this time the order of the fruits being picked does not matter."
   ]
  },
  {
   "cell_type": "code",
   "execution_count": 9,
   "metadata": {
    "colab": {
     "base_uri": "https://localhost:8080/",
     "height": 35
    },
    "colab_type": "code",
    "executionInfo": {
     "elapsed": 769,
     "status": "ok",
     "timestamp": 1560422487250,
     "user": {
      "displayName": "andrea carrey",
      "photoUrl": "",
      "userId": "16238584523302737838"
     },
     "user_tz": -120
    },
    "id": "WOqzy_zACpqT",
    "outputId": "ccaab731-2a77-461b-f8b9-dd449a7713ef"
   },
   "outputs": [
    {
     "data": {
      "text/plain": [
       "8.349416423424002e-08"
      ]
     },
     "execution_count": 9,
     "metadata": {
      "tags": []
     },
     "output_type": "execute_result"
    }
   ],
   "source": [
    "from scipy.stats import binom\n",
    "\n",
    "binom(5,0.6).pmf(5)*binom(15,1-0.6).pmf(15)"
   ]
  },
  {
   "cell_type": "markdown",
   "metadata": {
    "colab_type": "text",
    "id": "C-Kg1QC4CpqW"
   },
   "source": [
    "In the lesson we also discussed CDF (cumulative distribution function). In the context of the above problem, **what is the probability that less than 5 fruits picked are apples?**\n",
    "\n",
    "Write the formula and calculate the probability below."
   ]
  },
  {
   "cell_type": "code",
   "execution_count": 6,
   "metadata": {
    "colab": {
     "base_uri": "https://localhost:8080/",
     "height": 35
    },
    "colab_type": "code",
    "executionInfo": {
     "elapsed": 843,
     "status": "ok",
     "timestamp": 1560418786663,
     "user": {
      "displayName": "andrea carrey",
      "photoUrl": "",
      "userId": "16238584523302737838"
     },
     "user_tz": -120
    },
    "id": "OIXBURPBCpqX",
    "outputId": "aa749f02-6fd7-4ede-afe7-0a3f9245c7d5"
   },
   "outputs": [
    {
     "data": {
      "text/plain": [
       "0.0012944935222876511"
      ]
     },
     "execution_count": 6,
     "metadata": {
      "tags": []
     },
     "output_type": "execute_result"
    }
   ],
   "source": [
    "import matplotlib.pyplot as plt\n",
    "import numpy as np\n",
    "s=0\n",
    "for i in range(5):\n",
    "   s+=binom(20,p).pmf(i)\n",
    "print(s)\n",
    "\n",
    "binom(20,p).cdf(5)"
   ]
  },
  {
   "cell_type": "markdown",
   "metadata": {
    "colab_type": "text",
    "id": "QkA4yYzYCpqa"
   },
   "source": [
    "**Plot the PDF (probability distributiom function) for the above binomial distribution.**\n",
    "\n",
    "*Hint: The range of x in a binomial distribution is from `0` to `n`.*"
   ]
  },
  {
   "cell_type": "code",
   "execution_count": 5,
   "metadata": {
    "colab": {
     "base_uri": "https://localhost:8080/",
     "height": 286
    },
    "colab_type": "code",
    "executionInfo": {
     "elapsed": 721,
     "status": "ok",
     "timestamp": 1560430325668,
     "user": {
      "displayName": "andrea carrey",
      "photoUrl": "",
      "userId": "16238584523302737838"
     },
     "user_tz": -120
    },
    "id": "PUa5rE6y3wHu",
    "outputId": "96bc15fe-021e-448c-8d2b-5840696c871b"
   },
   "outputs": [
    {
     "data": {
      "text/plain": [
       "[None, None]"
      ]
     },
     "execution_count": 5,
     "metadata": {
      "tags": []
     },
     "output_type": "execute_result"
    },
    {
     "data": {
      "image/png": "[encoded data removed]",
      "text/plain": [
       "<Figure size 432x288 with 1 Axes>"
      ]
     },
     "metadata": {
      "tags": []
     },
     "output_type": "display_data"
    }
   ],
   "source": [
    "import scipy.stats as st\n",
    "import matplotlib.pyplot as plt\n",
    "import numpy as np\n",
    "# don't use pylab\n",
    "\n",
    "x = np.arange(1,6,1)\n",
    "markerline, stemlines, baseline=plt.stem(x, st.binom.pmf(x,20,0.6), '-.')\n",
    "plt.setp(markerline, 'markerfacecolor', 'b')\n",
    "plt.setp(baseline, 'color','r', 'linewidth', 2)"
   ]
  },
  {
   "cell_type": "markdown",
   "metadata": {
    "colab_type": "text",
    "id": "OYok8rjQCpqe"
   },
   "source": [
    "## Poisson Distribution\n",
    "\n",
    "In this challenge you are required to use the Math library in python to solve the problems.\n",
    "\n",
    "In the UEFA champions league tournament, the average number of goals scored in a match is 2.3. \n",
    "\n",
    "**What is the probability that the number of goals scored in a match is 5?**\n",
    "\n",
    "*Hint: Use the exp() in the math library*\n",
    "\n",
    "And to calculate the factorial, you can use the following code:\n",
    "\n",
    "```python\n",
    "import math\n",
    "math.factorial(n) # n is the number you want to find the factorial of\n",
    "```"
   ]
  },
  {
   "cell_type": "code",
   "execution_count": 0,
   "metadata": {
    "colab": {},
    "colab_type": "code",
    "id": "z_3SIGnvexo_"
   },
   "outputs": [],
   "source": [
    ""
   ]
  },
  {
   "cell_type": "code",
   "execution_count": 12,
   "metadata": {
    "colab": {
     "base_uri": "https://localhost:8080/",
     "height": 35
    },
    "colab_type": "code",
    "executionInfo": {
     "elapsed": 596,
     "status": "ok",
     "timestamp": 1560423492289,
     "user": {
      "displayName": "andrea carrey",
      "photoUrl": "",
      "userId": "16238584523302737838"
     },
     "user_tz": -120
    },
    "id": "gI0ScI3vCpqf",
    "outputId": "f2e76b73-6da3-4098-d6ee-7ae26cf2f44f"
   },
   "outputs": [
    {
     "data": {
      "text/plain": [
       "0.0537750255819468"
      ]
     },
     "execution_count": 12,
     "metadata": {
      "tags": []
     },
     "output_type": "execute_result"
    }
   ],
   "source": [
    "import math\n",
    "import numpy\n",
    "from numpy import *\n",
    "n= 5\n",
    "r = (exp(-2.3)*((2.3)**n))/(math.factorial(n))\n",
    "r"
   ]
  },
  {
   "cell_type": "markdown",
   "metadata": {
    "colab_type": "text",
    "id": "Ew2Bn4b-Cpqk"
   },
   "source": [
    "**Draw a poisson probability distribution plot for the number of goals to be between 0 to 10.**"
   ]
  },
  {
   "cell_type": "code",
   "execution_count": 4,
   "metadata": {
    "colab": {
     "base_uri": "https://localhost:8080/",
     "height": 295
    },
    "colab_type": "code",
    "executionInfo": {
     "elapsed": 504,
     "status": "ok",
     "timestamp": 1560430292873,
     "user": {
      "displayName": "andrea carrey",
      "photoUrl": "",
      "userId": "16238584523302737838"
     },
     "user_tz": -120
    },
    "id": "EdS1ISVzCpql",
    "outputId": "553044e9-d99c-4f51-c285-a192f20877aa"
   },
   "outputs": [
    {
     "data": {
      "image/png": "[encoded data removed]",
      "text/plain": [
       "<Figure size 432x288 with 1 Axes>"
      ]
     },
     "metadata": {
      "tags": []
     },
     "output_type": "display_data"
    }
   ],
   "source": [
    "import scipy\n",
    "import scipy.stats as st\n",
    "\n",
    "import random\n",
    "from random import randint\n",
    "from pylab import *\n",
    "\n",
    "\n",
    "x = np.arange(1,11,1)\n",
    "markerline, stemlines, baseline = stem(x, st.poisson.pmf(x,2.3), '-.')\n",
    "setp(markerline, 'markerfacecolor', 'b')\n",
    "setp(baseline, 'color','g', 'linewidth',1)\n",
    "plt.xlabel(\"Number of goals\")\n",
    "plt.title(\"fish plot\")\n",
    "\n",
    "show()\n"
   ]
  },
  {
   "cell_type": "code",
   "execution_count": 26,
   "metadata": {
    "colab": {
     "base_uri": "https://localhost:8080/",
     "height": 35
    },
    "colab_type": "code",
    "executionInfo": {
     "elapsed": 556,
     "status": "ok",
     "timestamp": 1560429014419,
     "user": {
      "displayName": "andrea carrey",
      "photoUrl": "",
      "userId": "16238584523302737838"
     },
     "user_tz": -120
    },
    "id": "bJx9_UtA0QMS",
    "outputId": "a9b845a0-416b-4d93-ceb3-77d053d6ecb3"
   },
   "outputs": [
    {
     "data": {
      "text/plain": [
       "7"
      ]
     },
     "execution_count": 26,
     "metadata": {
      "tags": []
     },
     "output_type": "execute_result"
    }
   ],
   "source": [
    "randint(1,8)"
   ]
  }
 ],
 "metadata": {
  "colab": {
   "collapsed_sections": [],
   "name": "lab-discrete-proba.ipynb",
   "provenance": [],
   "version": "0.3.2"
  },
  "kernelspec": {
   "display_name": "Python 3",
   "language": "python",
   "name": "python3"
  },
  "language_info": {
   "codemirror_mode": {
    "name": "ipython",
    "version": 3
   },
   "file_extension": ".py",
   "mimetype": "text/x-python",
   "name": "python",
   "nbconvert_exporter": "python",
   "pygments_lexer": "ipython3",
   "version": "3.7.3"
  }
 },
 "nbformat": 4,
 "nbformat_minor": 0
}
