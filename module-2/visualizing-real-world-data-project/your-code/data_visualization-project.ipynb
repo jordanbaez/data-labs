{
 "cells": [
  {
   "cell_type": "code",
   "execution_count": null,
   "metadata": {},
   "outputs": [],
   "source": [
    "import pandas as pd\n",
    "import matplotlib.pyplot as plt\n",
    "import seaborn as sns\n",
    "import warnings\n",
    "\n",
    "warnings.filterwarnings('ignore')\n",
    "%matplotlib inline\n",
    "\n",
    "df = pd.read_csv('data_karapetyan_final.csv', sep=';')"
   ]
  },
  {
   "cell_type": "code",
   "execution_count": null,
   "metadata": {},
   "outputs": [],
   "source": [
    "null_cols=df.isnull().sum()\n",
    "null_cols"
   ]
  },
  {
   "cell_type": "code",
   "execution_count": null,
   "metadata": {},
   "outputs": [],
   "source": [
    "drop_percentage=round(null_cols[null_cols>0]/df.shape[0]*100,2)\n",
    "drop_percentage\n",
    "\n",
    "#percentage of null value in each column"
   ]
  },
  {
   "cell_type": "code",
   "execution_count": null,
   "metadata": {},
   "outputs": [],
   "source": [
    "drop_cols=drop_percentage[drop_percentage>75].index\n",
    "drop_cols"
   ]
  },
  {
   "cell_type": "code",
   "execution_count": null,
   "metadata": {},
   "outputs": [],
   "source": [
    "df=df.drop(drop_cols,axis=1)"
   ]
  },
  {
   "cell_type": "code",
   "execution_count": null,
   "metadata": {},
   "outputs": [],
   "source": [
    "df.head()"
   ]
  },
  {
   "cell_type": "code",
   "execution_count": null,
   "metadata": {},
   "outputs": [],
   "source": [
    "df.columns"
   ]
  },
  {
   "cell_type": "code",
   "execution_count": null,
   "metadata": {},
   "outputs": [],
   "source": [
    "df.rename(columns= {\"Name of the Movie\":\"Movie\",\n",
    "                    \"Critics(CRS)\":\"Press Rating\",\n",
    "                    \"IMDB\":\"IMDB Rating\",\n",
    "                    \"Production Budget (PB)\":\"Budget\",\n",
    "                    'Box Office(US)':'US Gross'}, inplace=True)\n",
    "df=df.drop(['Writ_Prize','Act_Nominated'],axis=1)\n",
    "df.drop(list(df.filter(regex = 'Dir')), axis = 1, inplace = True)\n",
    "df.head()"
   ]
  },
  {
   "cell_type": "code",
   "execution_count": null,
   "metadata": {},
   "outputs": [],
   "source": [
    "\n",
    "df = df[pd.isnull(df['US Gross']) == False]\n",
    "df.shape\n",
    "\n",
    "#df = df.fillna(0)\n",
    "#dg = df[df['US Gross'] != 0]"
   ]
  },
  {
   "cell_type": "code",
   "execution_count": null,
   "metadata": {},
   "outputs": [],
   "source": [
    "import numpy as np\n",
    "df['US Gross']=df['US Gross'].str.replace(\" \",\"\").astype(int)\n",
    "df['Budget']=df['Budget'].str.replace(\" \",\"\").astype(int)\n",
    "df['IMDB Rating']=df['IMDB Rating'].str.replace(\" \",\"\").str.replace(',','.').astype(np.float64)\n",
    "\n",
    "df.dtypes"
   ]
  },
  {
   "cell_type": "code",
   "execution_count": null,
   "metadata": {},
   "outputs": [],
   "source": [
    "sns.heatmap(df.corr(), cmap='YlGnBu')\n",
    "#overview of the dataframe\n",
    "\n",
    "#Gross is highly related to budget\n",
    "#IMDB is highly related to Press\n",
    "#Action type is highly related to Budget\n",
    "#Animation type is highly related to PG\n",
    "#Drama is mildly related to Press Rating\n",
    "#Drama is mildly related to Actor Prized\n",
    "#Drama is the most recognized genre\n",
    "#Writer_Nom is higly related to Press Rating"
   ]
  },
  {
   "cell_type": "code",
   "execution_count": null,
   "metadata": {},
   "outputs": [],
   "source": [
    "\n",
    "LG = df.drop(['Movie','G', 'PG', 'PG-13', 'R', 'Budget', 'US Gross'],axis=1)\n",
    "sns.heatmap(LG.corr(), cmap='YlGnBu')\n",
    "\n",
    "#zoom on correlation between 'Press & IMDB Ratings' and 'Genre & Awards recognition'"
   ]
  },
  {
   "cell_type": "code",
   "execution_count": null,
   "metadata": {},
   "outputs": [],
   "source": [
    "plt.scatter(df.Gross, df.Budget)\n",
    "plt.xlim(0, 250000000)\n",
    "plt.ylim(0, 250000000)"
   ]
  },
  {
   "cell_type": "code",
   "execution_count": null,
   "metadata": {},
   "outputs": [],
   "source": [
    "sns.lmplot('Gross','Budget',data=df)\n",
    "plt.xlim(0, 300000000)\n",
    "plt.ylim(0, 300000000)\n",
    "\n",
    "# correlation budget / gross"
   ]
  },
  {
   "cell_type": "code",
   "execution_count": null,
   "metadata": {},
   "outputs": [],
   "source": [
    "sns.lmplot('Press Rating','IMDB Rating',data=df)\n",
    "#very strong correlation\n",
    "\n"
   ]
  },
  {
   "cell_type": "code",
   "execution_count": null,
   "metadata": {},
   "outputs": [],
   "source": [
    "df['IMDB Rating'] = df['IMDB Rating'].apply(lambda x: x*10)\n",
    "# converting IMDB ratings to the same scale of that in Press Ratings\n"
   ]
  },
  {
   "cell_type": "code",
   "execution_count": null,
   "metadata": {},
   "outputs": [],
   "source": [
    "df[df['Press Rating']<20]\n",
    "# three least liked movies by the press"
   ]
  },
  {
   "cell_type": "code",
   "execution_count": null,
   "metadata": {},
   "outputs": [],
   "source": [
    "df[df['IMDB Rating']<45]\n",
    "#three least liked movies by IMDB users\n",
    "#IMDB users give \"higher\" low ratings to the movies they don't like\n",
    "# than the press. \n",
    "#EMOJI is the only common movie in the 2 bottom three podiums."
   ]
  },
  {
   "cell_type": "code",
   "execution_count": null,
   "metadata": {},
   "outputs": [],
   "source": [
    "df['Average Rating'] = df[[\"IMDB Rating\", \"Press Rating\"]].mean(axis=1)\n",
    "#merging 2 columns into 1\n",
    "cols = df.columns.tolist()\n",
    "cols = cols[-1:] + cols[:-1]\n",
    "ratings = df.ix[:, cols]\n",
    "#bringing 'Average Rating to the beginning of the df for convenience purposes'\n",
    "ratings=ratings.drop(['Movie','G', 'PG', 'PG-13', 'R', 'Budget', 'US Gross',\n",
    "              \"IMDB Rating\", \"Press Rating\"],axis=1, inplace=True)\n",
    "\n",
    "sns.heatmap(ratings.corr(), cmap='YlGnBu')\n",
    "sns.jointplot('Average Rating','Drama', data = ratings, kind = 'kde')\n",
    "\n",
    "#correlation analysis\n",
    "#if a movie is a drama, it is more likely to get a high \n",
    "#average rating than if it is not.\n",
    "# if a movie is a drama, chances are high that its writer and/or its main \n",
    "# actor got awards in the past."
   ]
  },
  {
   "cell_type": "code",
   "execution_count": null,
   "metadata": {},
   "outputs": [],
   "source": [
    "sns.jointplot('Average Rating','Action', data = ratings, kind = 'kde')\n",
    "#action movies are overall mildly appreciated"
   ]
  },
  {
   "cell_type": "code",
   "execution_count": null,
   "metadata": {},
   "outputs": [],
   "source": [
    "# animated movies\n",
    "anim = df[['Animation','G','PG','PG-13','R']]\n",
    "anim = anim[anim['Animation'] != 0]\n",
    "anim.shape\n",
    "\n",
    "#21 animated movies in the database\n",
    "\n",
    "G = anim['G'].agg(sum)/anim['Animation'].agg(sum)*100\n",
    "PG = anim['PG'].agg(sum)/anim['Animation'].agg(sum)\n",
    "PG13= anim['PG-13'].agg(sum)/anim['Animation'].agg(sum)\n",
    "R = anim['R'].agg(sum)/anim['Animation'].agg(sum)\n",
    "animated = [G,PG,PG13,R]\n",
    "\n",
    "def sd(x):\n",
    "  return x*100  \n",
    "\n",
    "percentages = [round((sd(x)),0) for x in animated]\n",
    "percentages = [x for x in percentages if x != 0]\n",
    "labels=['G','PG','R']\n",
    "sizes=percentages\n",
    "explode=(0.2,0.1,0.2)\n",
    "fig1,ax1=plt.subplots()\n",
    "ax1.pie(sizes,explode=explode,labels=labels,autopct='%1.1f%%',shadow=True,startangle=120)\n",
    "plt.show()\n",
    "\n",
    "# pie chart of Animated movies' parental ratings. PG indicates that \n",
    "# movies include some moments of mild violence. There's an evolution\n",
    "# compared to the the big Disney movies that were all rated G."
   ]
  },
  {
   "cell_type": "code",
   "execution_count": null,
   "metadata": {},
   "outputs": [],
   "source": [
    "#PROFITABILITY\n",
    "\n",
    "profit = df[['Movie','US Gross','Budget']]\n",
    "\n",
    "profit['Profitability'] = ((profit['Gross']-profit.Budget)/profit.Budget)*100\n",
    "\n",
    "profit.nsmallest(5, 'Profitability').sort_values('Profitability', ascending=False)\n",
    "#the 5 least profitable movies of the list"
   ]
  },
  {
   "cell_type": "code",
   "execution_count": null,
   "metadata": {},
   "outputs": [],
   "source": [
    "profit.nlargest(5, 'Profitability').sort_values('Profitability', ascending=False)\n",
    "#the 5 most profitable movies of the list"
   ]
  },
  {
   "cell_type": "code",
   "execution_count": null,
   "metadata": {},
   "outputs": [],
   "source": [
    "sns.distplot(profit.Profitability)\n",
    "#overview of the profitability rates"
   ]
  },
  {
   "cell_type": "code",
   "execution_count": null,
   "metadata": {},
   "outputs": [],
   "source": [
    "df[(df.Gross>300000000)&(df.Budget<90000000)]\n",
    " #one way to find very profitable movies."
   ]
  },
  {
   "cell_type": "code",
   "execution_count": null,
   "metadata": {},
   "outputs": [],
   "source": [
    "def label_category (row):\n",
    "  if row['Budget'] >= 100000000 :\n",
    "    return 'above $100M'\n",
    "  elif 50000000 <= row['Budget'] < 100000000 :\n",
    "    return 'above $50M'\n",
    "  else :\n",
    "      return 'below $50M'\n",
    "\n",
    "\n",
    "profit['Budget League'] = profit.apply (lambda row: label_category(row), axis=1)\n",
    "\n",
    "def label_profit (row):\n",
    "  if row['Profitability'] >= 1000 :\n",
    "    return 1000\n",
    "  \n",
    "  elif 500 <= row['Profitability'] < 1000 :\n",
    "    return 500\n",
    "  elif 200 <= row['Profitability'] < 500 :\n",
    "    return 200\n",
    "  elif 100 <= row['Profitability'] < 200 :\n",
    "    return 100\n",
    "  elif 0 <= row['Profitability'] < 100 :\n",
    "    return 200\n",
    "  elif -50 <= row['Profitability'] < 0 :\n",
    "    return -50\n",
    "  else :\n",
    "      return -100\n",
    "\n",
    "\n",
    "profit['profit'] = profit.apply (lambda row: label_profit(row), axis=1)\n",
    "\n",
    "p = sns.FacetGrid(profit, col=\"Budget League\")\n",
    "p = p.map(plt.hist, \"profit\",bins=6)\n",
    "\n",
    "#movies with a low budget are able to have crazy profitability rates,\n",
    "# even if they aren't the ones that gross the most money."
   ]
  },
  {
   "cell_type": "code",
   "execution_count": null,
   "metadata": {},
   "outputs": [],
   "source": [
    "sequels = df[df.Movie.str.contains(':') |df.Movie.str.contains('\\d', regex=True) |df.Movie.str.contains('\\.')]\n",
    "#creating dataframe focused on sequels\n",
    "\n"
   ]
  },
  {
   "cell_type": "code",
   "execution_count": null,
   "metadata": {},
   "outputs": [],
   "source": [
    "sequels = sequels[(df.Movie.str.contains('50') == False)\n",
    "                  & (df.Movie.str.contains('8') == False) & \n",
    "                  (df.Movie.str.contains('13') == False)]\n",
    "# manual cleaning of the list because the number of rows \n",
    "# was low enough to make it possible\n",
    "\n",
    "#sequels.shape\n",
    "nonsequels = df[(df.Movie.str.contains(':') == False) \n",
    "                & (df.Movie.str.contains('\\d', regex=True) == False) & \n",
    "                (df.Movie.str.contains('\\.') == False)]\n",
    "\n",
    "sequels_average_gross = sum(sequels['US Gross'])/len(sequels['US Gross'])\n",
    "non_sequel_average_gross = sum(nonsequels['US Gross'])/len(nonsequels['US Gross'])\n",
    "\n",
    "difference = sequels_average_gross - non_sequel_average_gross"
   ]
  }
 ],
 "metadata": {
  "kernelspec": {
   "display_name": "Python 3",
   "language": "python",
   "name": "python3"
  },
  "language_info": {
   "codemirror_mode": {
    "name": "ipython",
    "version": 3
   },
   "file_extension": ".py",
   "mimetype": "text/x-python",
   "name": "python",
   "nbconvert_exporter": "python",
   "pygments_lexer": "ipython3",
   "version": "3.7.3"
  }
 },
 "nbformat": 4,
 "nbformat_minor": 2
}
