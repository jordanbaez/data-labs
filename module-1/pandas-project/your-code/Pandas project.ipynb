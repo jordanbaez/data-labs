{
 "cells": [
  {
   "cell_type": "code",
   "execution_count": null,
   "metadata": {},
   "outputs": [],
   "source": [
    "import pandas as pd\n",
    "import numpy as np\n",
    "import os\n",
    "import re\n",
    "from collections import Counter, OrderedDict"
   ]
  },
  {
   "cell_type": "code",
   "execution_count": null,
   "metadata": {},
   "outputs": [],
   "source": [
    "df = pd.read_csv('GSAF5.csv',engine='python')\n",
    "df"
   ]
  },
  {
   "cell_type": "code",
   "execution_count": null,
   "metadata": {},
   "outputs": [],
   "source": [
    "# Null value analysis\n",
    "\n",
    "df.columns[df.isnull().sum()>0]\n",
    "\n",
    "null_cols=df.isnull().sum()\n",
    "drop_percentage=round(null_cols[null_cols>0]/df.shape[0]*100,2)\n",
    "drop_cols=drop_percentage[drop_percentage>10].index\n",
    "#drop_cols\n",
    "df[drop_cols]=df[drop_cols].fillna(0)\n",
    "null_cols=df.isnull().sum()\n",
    "drop_percentage=round(null_cols[null_cols>0]/df.shape[0]*100,2)\n",
    "drop_percentage\n",
    "\n",
    "dropc = ['Unnamed: 22', 'Unnamed: 23','pdf','original order','Time','Case Number.1','Case Number.2', 'href','href formula']\n",
    "df=df.drop(dropc,axis=1)\n",
    "df.head()"
   ]
  },
  {
   "cell_type": "code",
   "execution_count": null,
   "metadata": {},
   "outputs": [],
   "source": [
    "df.columns = df.columns.str.strip()\n",
    "df.columns = df.columns.str.strip().str.replace(' ', '_')\n",
    "df.head()"
   ]
  },
  {
   "cell_type": "code",
   "execution_count": null,
   "metadata": {},
   "outputs": [],
   "source": [
    "df.rename(columns= {\"Fatal_(Y/N)\":\"Fatal\"}, inplace=True)\n",
    "df.head()"
   ]
  },
  {
   "cell_type": "code",
   "execution_count": null,
   "metadata": {},
   "outputs": [],
   "source": [
    "df.Fatal= df.Fatal.str.upper().replace('N ','N')\n",
    "df.Fatal= df.Fatal.str.upper().replace(' N','N')\n",
    "df.Fatal= df.Fatal.str.upper().replace(' ','')\n",
    "\n",
    "df.Fatal.value_counts()"
   ]
  },
  {
   "cell_type": "code",
   "execution_count": null,
   "metadata": {},
   "outputs": [],
   "source": [
    "for i, row in df[['Fatal']].iterrows():\n",
    "    if (df.at[i,'Fatal'] != 'N') & (df.at[i,'Fatal'] != 'Y'):\n",
    "        df.at[i,'Fatal'] = 'NOT REPORTED'\n",
    "\n",
    "print (df.Fatal.value_counts().plot.bar(), df.Fatal.value_counts())"
   ]
  },
  {
   "cell_type": "code",
   "execution_count": null,
   "metadata": {},
   "outputs": [],
   "source": [
    "s = df.Activity.value_counts()\n",
    "print('type of attacks : ',len(s))\n",
    "less_than_30 = 0\n",
    "total_attacks = []\n",
    "total = 0\n",
    "attaques = []\n",
    "rare_attacks = 0\n",
    "circumstances = 0\n",
    "\n",
    "\n",
    "for i,q in enumerate(s):\n",
    "  if q < 30:\n",
    "    less_than_30 +=1\n",
    "    \n",
    "for i,q in enumerate(s):\n",
    "  if q < 30:\n",
    "    attaques.append(q)\n",
    "    \n",
    "for i,q in enumerate(s):\n",
    "  total_attacks.append(q)\n",
    "for a in total_attacks:\n",
    "  total = total +a\n",
    "    \n",
    "for n in attaques:\n",
    "  rare_attacks = rare_attacks +n\n",
    "  \n",
    "print('total number of alledged attacks:',total)\n",
    "print ('rare_attacks:',rare_attacks)\n",
    "print('types of rare_attacks:',less_than_30)\n",
    "print('percentage of rare attacks:',round((rare_attacks*100)/total))\n",
    "print('number of dangerous circumstances:',len(s)-less_than_30)"
   ]
  },
  {
   "cell_type": "code",
   "execution_count": null,
   "metadata": {},
   "outputs": [],
   "source": [
    "df['Activity'] = df['Activity'].str.replace(\" \",\"\")\n",
    "\n",
    "#df.Activity.value_counts()\n",
    "\n",
    "for i, row in df[['Activity']].iterrows():\n",
    "    if (df.at[i,'Activity'] != 'Surfing') & (df.at[i,'Activity'] != 'Swimming') &  (df.at[i,'Activity'] != 'Fishing') & (df.at[i,'Activity'] != 'Spearfishing') & (df.at[i,'Activity'] != 'Bathing') &  (df.at[i,'Activity'] != 'Wading') &  (df.at[i,'Activity'] != 'Diving') &  (df.at[i,'Activity'] != 'Standing') &  (df.at[i,'Activity'] != 'Snorkeling') & (df.at[i,'Activity'] != 'Scuba diving') & (df.at[i,'Activity'] != 'Body boarding') & (df.at[i,'Activity'] != 'Body surfing') :\n",
    "      df.at[i,'Activity'] = 'null'\n"
   ]
  },
  {
   "cell_type": "code",
   "execution_count": null,
   "metadata": {},
   "outputs": [],
   "source": [
    "dh = df[df.Activity != 'null']\n",
    "  \n",
    "dh.Activity.value_counts()"
   ]
  },
  {
   "cell_type": "code",
   "execution_count": null,
   "metadata": {},
   "outputs": [],
   "source": [
    "dh.Activity.value_counts().plot.barh()"
   ]
  },
  {
   "cell_type": "code",
   "execution_count": null,
   "metadata": {},
   "outputs": [],
   "source": [
    "dh = dh[dh.Fatal != 'N']\n",
    "\n",
    "dh.Fatal.value_counts()"
   ]
  },
  {
   "cell_type": "code",
   "execution_count": null,
   "metadata": {},
   "outputs": [],
   "source": [
    "dh = dh[dh.Fatal != 'NOT REPORTED']\n",
    "dh.Fatal.value_counts()"
   ]
  },
  {
   "cell_type": "code",
   "execution_count": null,
   "metadata": {},
   "outputs": [],
   "source": [
    "dh.Activity.value_counts()"
   ]
  },
  {
   "cell_type": "code",
   "execution_count": null,
   "metadata": {},
   "outputs": [],
   "source": [
    "dg=df.dropna(subset=['Species'])\n",
    "dg"
   ]
  },
  {
   "cell_type": "code",
   "execution_count": null,
   "metadata": {},
   "outputs": [],
   "source": [
    "dg = dg.reset_index(drop=True)\n",
    "dg.head()"
   ]
  },
  {
   "cell_type": "code",
   "execution_count": null,
   "metadata": {},
   "outputs": [],
   "source": [
    "for i, row in dg[['Species']].iterrows():\n",
    "    if (dg.at[i,'Species'] != 'Shark involvement not confirmed') & (dg.at[i,'Species'] != 'No shark involvement'):\n",
    "      dg.at[i,'Species'] = 'Presence of shark confirmed'"
   ]
  },
  {
   "cell_type": "code",
   "execution_count": null,
   "metadata": {},
   "outputs": [],
   "source": [
    "dg.Species.value_counts()"
   ]
  },
  {
   "cell_type": "code",
   "execution_count": null,
   "metadata": {},
   "outputs": [],
   "source": [
    "df_desc = df.describe().T\n",
    "df_desc['IQR']=df_desc['75%']-df_desc['25%']\n",
    "df_desc\n",
    "\n",
    "\n",
    "outliers=pd.DataFrame(columns=df.columns)\n",
    "\n",
    "for col in df_desc.index:\n",
    "  iqr=df_desc.at[col,'IQR']\n",
    "  cutoff=iqr*1.5\n",
    "  lower=df_desc.at[col,'25%']-cutoff\n",
    "  upper=df_desc.at[col,'25%']+cutoff\n",
    "  results=df[(df[col]<lower)|(df[col]>upper)].copy()\n",
    "  results['Outlier']=col\n",
    "  outliers=outliers.append(results)\n",
    "  \n",
    "outliers"
   ]
  },
  {
   "cell_type": "code",
   "execution_count": null,
   "metadata": {},
   "outputs": [],
   "source": [
    "#TECHNICAL CHALLENGE\n",
    "\n",
    "#df.Activity=df.Activity.dropna() \n",
    "#df['Activity']= df['Activity'].replace({' ':''}, regex = True)\n",
    "#df.Activity\n",
    "#len(df.Activity[[type(x)==float for x in df.Activity]])\n",
    "\n",
    "#byefloat=df.index[df[\"Activity\"] == float].tolist()\n",
    "\n",
    "#df=df.drop(df.index[byefloat])\n",
    "#df.shape\n",
    "\n",
    "df.Activity.apply(lambda x: re.sub(r'.*div.*', 'diving / under water', x ))\n",
    "df.Activity[[type(x)==float for x in df.Activity]]\n",
    "\n",
    "\n",
    "\n",
    "______________________\n",
    "\n",
    "\n",
    "\n",
    "\n",
    "clean = [k for i, row in df[['Activity']].iterrows() for j in row for k in j.split()]\n",
    "clean\n",
    "class OrderedCounter(Counter, OrderedDict):\n",
    "\n",
    "    def __repr__(self):\n",
    "        return '%s(%r)' % (self.__class__.__name__, OrderedDict(self))\n",
    "\n",
    "    def __reduce__(self):\n",
    "        return self.__class__, (OrderedDict(self),)\n",
    "\n",
    "c = OrderedCounter(clean)\n",
    "c\n",
    "#sorted_c = sorted(c.items(), key=lambda kv: kv[1])\n",
    "#sorted_c\n",
    "\n",
    "#res = (dg['Activity'].values == 'diving').sum()\n"
   ]
  }
 ],
 "metadata": {
  "kernelspec": {
   "display_name": "Python 3",
   "language": "python",
   "name": "python3"
  },
  "language_info": {
   "codemirror_mode": {
    "name": "ipython",
    "version": 3
   },
   "file_extension": ".py",
   "mimetype": "text/x-python",
   "name": "python",
   "nbconvert_exporter": "python",
   "pygments_lexer": "ipython3",
   "version": "3.7.3"
  }
 },
 "nbformat": 4,
 "nbformat_minor": 2
}
